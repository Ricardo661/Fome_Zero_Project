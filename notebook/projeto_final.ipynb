{
 "cells": [
  {
   "cell_type": "markdown",
   "id": "0a3ff537-99eb-4a3b-b380-7b8ab7f61bd3",
   "metadata": {
    "tags": []
   },
   "source": [
    "# Importando Bibliotecas"
   ]
  },
  {
   "cell_type": "code",
   "execution_count": 1,
   "id": "fb08154b-a329-45fa-90a3-dc616ce520da",
   "metadata": {
    "tags": []
   },
   "outputs": [],
   "source": [
    "import pandas as pd\n",
    "import numpy as np\n",
    "import streamlit as st\n",
    "import plotly.express as px\n",
    "from streamlit_folium import folium_static\n",
    "from PIL import Image"
   ]
  },
  {
   "cell_type": "markdown",
   "id": "bba95952-b821-4b6d-9150-606dc6872b5e",
   "metadata": {
    "tags": []
   },
   "source": [
    "# Importando Data set"
   ]
  },
  {
   "cell_type": "code",
   "execution_count": 2,
   "id": "d422f571-b493-4d89-9765-3233397ef337",
   "metadata": {
    "tags": []
   },
   "outputs": [],
   "source": [
    "df = pd.read_csv('C:/Users/Ricardo Junior/Documents/repos/FTC_programacao_python/PA/dataset/zomato.csv')"
   ]
  },
  {
   "cell_type": "code",
   "execution_count": 3,
   "id": "462d5c86-9b84-4397-98b6-883ab4605d67",
   "metadata": {
    "tags": []
   },
   "outputs": [],
   "source": [
    "# Criando uma copia do dataframe\n",
    "df1 = df.copy()\n",
    "\n"
   ]
  },
  {
   "cell_type": "markdown",
   "id": "8346b7b0-4945-43fb-aaf4-3f0da090a6a6",
   "metadata": {
    "tags": []
   },
   "source": [
    "# Limpeza dos dados\n"
   ]
  },
  {
   "cell_type": "code",
   "execution_count": 4,
   "id": "7df9afa1-bc01-431c-b846-0e8f2a008dd9",
   "metadata": {
    "tags": []
   },
   "outputs": [],
   "source": [
    "# Renomeando o nome das colunas\n",
    "df1.columns = [\n",
    "    \"restaurant_id\",\n",
    "    \"restaurant_name\",\n",
    "    \"country\",\n",
    "    \"city\",\n",
    "    \"address\",\n",
    "    \"locality\",\n",
    "    \"locality_verbose\",\n",
    "    \"longitude\",\n",
    "    \"latitude\",\n",
    "    \"cuisines\",\n",
    "    \"average_cost_for_two\",\n",
    "    \"currency\",\n",
    "    \"has_table_booking\",\n",
    "    \"has_online_delivery\",\n",
    "    \"is_delivering_now\",\n",
    "    \"switch_to_order_menu\",\n",
    "    \"price_range\",\n",
    "    \"aggregate_rating\",\n",
    "    \"rating_color\",\n",
    "    \"rating_text\",\n",
    "    \"votes\"\n",
    "    ]"
   ]
  },
  {
   "cell_type": "code",
   "execution_count": 5,
   "id": "1bf5a7b9-5334-4bdc-aff8-605a6da38441",
   "metadata": {
    "tags": []
   },
   "outputs": [],
   "source": [
    "# Removendo as linhas vazias do data frame\n",
    "df1 = df1.dropna(axis = 0)\n",
    "\n",
    "# Remover as linhas duplicadas do dataframe\n",
    "df1 = df1.drop_duplicates()\n",
    "\n",
    "# Remover a colunas sem variação de valor do data frame\n",
    "df1 = df1.drop('switch_to_order_menu', axis = 1)"
   ]
  },
  {
   "cell_type": "code",
   "execution_count": 6,
   "id": "6dfbd72b-b6b5-4d43-9587-8035e77c0b41",
   "metadata": {
    "tags": []
   },
   "outputs": [],
   "source": [
    "# ALteração das colunas\n",
    "\n",
    "COUNTRIES = {\n",
    "    1: \"India\",\n",
    "    14: \"Australia\",\n",
    "    30: \"Brazil\",\n",
    "    37: \"Canada\",\n",
    "    94: \"Indonesia\",\n",
    "    148: \"New Zeland\",\n",
    "    162: \"Philippines\",\n",
    "    166: \"Qatar\",\n",
    "    184: \"Singapure\",\n",
    "    189: \"South Africa\",\n",
    "    191: \"Sri Lanka\",\n",
    "    208: \"Turkey\",\n",
    "    214: \"United Arab Emirates\",\n",
    "    215: \"England\",\n",
    "    216: \"United States of America\",\n",
    "}\n",
    "\n",
    "# Nome dos codigos\n",
    "\n",
    "COLORS = {\n",
    "    \"3F7E00\": \"darkgreen\",\n",
    "    \"5BA829\": \"green\",\n",
    "    \"9ACD32\": \"lightgreen\",\n",
    "    \"CDD614\": \"orange\",\n",
    "    \"FFBA00\": \"red\",\n",
    "    \"CBCBC8\": \"darkred\",\n",
    "    \"FF7800\": \"darkred\",\n",
    "}"
   ]
  },
  {
   "cell_type": "code",
   "execution_count": 7,
   "id": "971b8c55-6639-4206-8074-3fbee8d70a1e",
   "metadata": {
    "tags": []
   },
   "outputs": [],
   "source": [
    "# Nomeando as faixas de preço\n",
    "\n",
    "def create_price_tye(price_range):\n",
    "    if price_range == 1:\n",
    "        return \"cheap\"\n",
    "    elif price_range == 2:\n",
    "        return \"normal\"\n",
    "    elif price_range == 3:\n",
    "        return \"expensive\"\n",
    "    else:\n",
    "        return \"gourmet\""
   ]
  },
  {
   "cell_type": "code",
   "execution_count": 8,
   "id": "eb7f18bb-5519-47db-9967-417a39b0727f",
   "metadata": {
    "tags": []
   },
   "outputs": [],
   "source": [
    "def country_name(country):\n",
    "    return COUNTRIES[country]\n",
    "\n",
    "def color_name(rating_color):\n",
    "    return COLORS[rating_color]"
   ]
  },
  {
   "cell_type": "code",
   "execution_count": 9,
   "id": "012da5e3-5dc0-458b-b392-ab08df639fb3",
   "metadata": {
    "tags": []
   },
   "outputs": [],
   "source": [
    "# Função para colocar o nome dos Paises\n",
    "df1[\"country\"] = df1.loc[:, \"country\"].apply(lambda x: country_name(x))\n",
    "\n",
    "# Função para colocar o nome das Cores\n",
    "df1[\"color_name\"] = df1.loc[:, \"rating_color\"].apply(lambda x: color_name(x))\n",
    "\n",
    "# Função para colocar o nome das faixas de cores\n",
    "df1[\"price_type\"] = df1.loc[:, \"price_range\"].apply(lambda x: create_price_tye(x))\n",
    "\n",
    "# Função para Colocar todos os tipos de cosinhas como número 1\n",
    "df1[\"cuisines_number\"] = df1.loc[:, \"cuisines\"].apply(lambda x: x.split(\",\")[0])"
   ]
  },
  {
   "cell_type": "code",
   "execution_count": 10,
   "id": "23a66991-2aa2-4161-a4aa-aec04012c68b",
   "metadata": {
    "tags": []
   },
   "outputs": [],
   "source": [
    "# Reoarginazando as colunas\n",
    "df1 = df1.reindex(columns=['restaurant_id','restaurant_name','country','city','address','locality','locality_verbose','longitude','latitude','cuisines','cuisines_number',\n",
    "                          'average_cost_for_two','currency','has_table_booking','has_online_delivery','is_delivering_now','price_range','price_type','aggregate_rating',\n",
    "                          'rating_color','color_name','rating_text','votes'])\n"
   ]
  },
  {
   "cell_type": "code",
   "execution_count": 11,
   "id": "9db455ab-693f-45fd-920a-c6d09b9cf493",
   "metadata": {
    "tags": []
   },
   "outputs": [
    {
     "data": {
      "text/html": [
       "<div>\n",
       "<style scoped>\n",
       "    .dataframe tbody tr th:only-of-type {\n",
       "        vertical-align: middle;\n",
       "    }\n",
       "\n",
       "    .dataframe tbody tr th {\n",
       "        vertical-align: top;\n",
       "    }\n",
       "\n",
       "    .dataframe thead th {\n",
       "        text-align: right;\n",
       "    }\n",
       "</style>\n",
       "<table border=\"1\" class=\"dataframe\">\n",
       "  <thead>\n",
       "    <tr style=\"text-align: right;\">\n",
       "      <th></th>\n",
       "      <th>restaurant_id</th>\n",
       "      <th>restaurant_name</th>\n",
       "      <th>country</th>\n",
       "      <th>city</th>\n",
       "      <th>address</th>\n",
       "      <th>locality</th>\n",
       "      <th>locality_verbose</th>\n",
       "      <th>longitude</th>\n",
       "      <th>latitude</th>\n",
       "      <th>cuisines</th>\n",
       "      <th>...</th>\n",
       "      <th>has_table_booking</th>\n",
       "      <th>has_online_delivery</th>\n",
       "      <th>is_delivering_now</th>\n",
       "      <th>price_range</th>\n",
       "      <th>price_type</th>\n",
       "      <th>aggregate_rating</th>\n",
       "      <th>rating_color</th>\n",
       "      <th>color_name</th>\n",
       "      <th>rating_text</th>\n",
       "      <th>votes</th>\n",
       "    </tr>\n",
       "  </thead>\n",
       "  <tbody>\n",
       "    <tr>\n",
       "      <th>0</th>\n",
       "      <td>6310675</td>\n",
       "      <td>Mama Lou's Italian Kitchen</td>\n",
       "      <td>Philippines</td>\n",
       "      <td>Las Piñas City</td>\n",
       "      <td>Block 1, Lot 36, Tropical Avenue Corner Tropic...</td>\n",
       "      <td>BF International</td>\n",
       "      <td>BF International, Las Piñas City</td>\n",
       "      <td>121.009787</td>\n",
       "      <td>14.447615</td>\n",
       "      <td>Italian</td>\n",
       "      <td>...</td>\n",
       "      <td>1</td>\n",
       "      <td>0</td>\n",
       "      <td>0</td>\n",
       "      <td>3</td>\n",
       "      <td>expensive</td>\n",
       "      <td>4.6</td>\n",
       "      <td>3F7E00</td>\n",
       "      <td>darkgreen</td>\n",
       "      <td>Excellent</td>\n",
       "      <td>619</td>\n",
       "    </tr>\n",
       "  </tbody>\n",
       "</table>\n",
       "<p>1 rows × 23 columns</p>\n",
       "</div>"
      ],
      "text/plain": [
       "   restaurant_id             restaurant_name      country            city  \\\n",
       "0        6310675  Mama Lou's Italian Kitchen  Philippines  Las Piñas City   \n",
       "\n",
       "                                             address          locality  \\\n",
       "0  Block 1, Lot 36, Tropical Avenue Corner Tropic...  BF International   \n",
       "\n",
       "                   locality_verbose   longitude   latitude cuisines  ...  \\\n",
       "0  BF International, Las Piñas City  121.009787  14.447615  Italian  ...   \n",
       "\n",
       "  has_table_booking  has_online_delivery is_delivering_now  price_range  \\\n",
       "0                 1                    0                 0            3   \n",
       "\n",
       "   price_type  aggregate_rating  rating_color color_name  rating_text votes  \n",
       "0   expensive               4.6        3F7E00  darkgreen    Excellent   619  \n",
       "\n",
       "[1 rows x 23 columns]"
      ]
     },
     "execution_count": 11,
     "metadata": {},
     "output_type": "execute_result"
    }
   ],
   "source": [
    "df1.columns\n",
    "df1.head(1)"
   ]
  },
  {
   "cell_type": "markdown",
   "id": "137ae89e-89b7-43a9-b5d4-6b3bf46d5c8c",
   "metadata": {
    "tags": []
   },
   "source": [
    "# Descrição das Colunas"
   ]
  },
  {
   "cell_type": "markdown",
   "id": "fb9ad249-68f9-4912-be6e-efd2816264cd",
   "metadata": {},
   "source": [
    "\n",
    "Restaurant ID\n",
    "Restaurant Name\n",
    "Country Code\n",
    "City\n",
    "Address\n",
    "Locality\n",
    "Locality Verbose\n",
    "Longitude\n",
    "Latitude\n",
    "Cuisines\n",
    "Average Cost for two\n",
    "Currency\n",
    "Has Table booking\n",
    "Has Online delivery\n",
    "Is delivering now\n",
    "Switch to order menu\n",
    "Price range\n",
    "Aggregate rating\n",
    "Rating color\n",
    "Rating text\n",
    "Votes"
   ]
  },
  {
   "cell_type": "markdown",
   "id": "31e61212-79c3-4c5d-88f4-a09b975be0f7",
   "metadata": {},
   "source": [
    "| Column | Description |\n",
    "| :----- | :---------- |\n",
    "| Restaurant ID | ID do restaurante | \n",
    "| Restaurant Name | Nome do Restaurante |\n",
    "| Country Code | Código do País |\n",
    "| City | Nome da Cidade onde o restaurante está |\n",
    "| Address | Endereço do restaurante |\n",
    "| Locality | Localização e pontos de referência do restaurante |\n",
    "| Locality Verbose | Localização e pontos de referência do restaurante (Mais informações) |\n",
    "| Longitude | Ponto geográfico de Longitude do Restaurante |\n",
    "| Latitude | Ponto geográfico de Latitude do Restaurante |\n",
    "| Cuisines | Tipos de Culinária servidos no restaurante |\n",
    "| Average Cost for two | Preço Médio de um prato para duas pessoas no restaurante |\n",
    "| Currency | Moeda do país |\n",
    "| Has Table booking | Se o restaurante possui serviços de reserva; 1 - Sim; 0 - Não |\n",
    "| Has Online delivery | Se o restaurante possui serviços de pedido on-line; 1 - Sim; 0 - Não |\n",
    "| Is delivering now | Se o restaurante faz entregas; 1 - Sim; 0 - Não |\n",
    "| Switch to order menu | - |\n",
    "| Price range | Variação de preços do restaurante; 1 a 4 - Quanto maior o valor, mais caro serão os pratos |\n",
    "| Aggregate rating | Nota média do restaurante |\n",
    "| Rating color | Código Hexadecimal da cor do restaurante com base em sua nota média |\n",
    "| Rating text | Categoria em que o restaurante está com base em sua nota média |\n",
    "| Votes | Quantidade de avaliações que o restaurante já recebeu |"
   ]
  },
  {
   "cell_type": "markdown",
   "id": "1057d6bc-0b0c-4d1b-bafa-c46b3f78940a",
   "metadata": {
    "tags": []
   },
   "source": [
    "# VISÃO GERAL"
   ]
  },
  {
   "cell_type": "markdown",
   "id": "400b2cf9-e44f-414b-83ed-4a238159b278",
   "metadata": {
    "tags": []
   },
   "source": [
    "## 1. Quantos restaurantes únicos estão registrados?\n"
   ]
  },
  {
   "cell_type": "code",
   "execution_count": null,
   "id": "a4933198-bdf4-4e3b-abc3-508fd7c13844",
   "metadata": {},
   "outputs": [],
   "source": [
    "# S - O número de restaurantes unicos\n",
    "# P - Irei selecionar a coluna de restaurant_id e utlizarei o contador de itens 'nunique' para descobri a quantidade de restaurantes unicos\n",
    "# E - Dataframe, e a coluna restaurant_id"
   ]
  },
  {
   "cell_type": "code",
   "execution_count": 17,
   "id": "029eacd9-c62c-4a2c-8207-d48c83c612e2",
   "metadata": {
    "tags": []
   },
   "outputs": [
    {
     "name": "stdout",
     "output_type": "stream",
     "text": [
      "Os restaurantes Unicos registradatos são: 6929\n"
     ]
    }
   ],
   "source": [
    "aux = df1.loc[:, 'restaurant_id'].nunique()\n",
    "print(f'Os restaurantes Unicos registradatos são: {aux}')"
   ]
  },
  {
   "cell_type": "markdown",
   "id": "85a57614-c18a-4c4f-bd7e-70fe2d324b4c",
   "metadata": {},
   "source": [
    "## 2. Quantos países únicos estão registrados?\n"
   ]
  },
  {
   "cell_type": "code",
   "execution_count": 18,
   "id": "6bd03923-ce95-4879-9a75-f5f1a754d419",
   "metadata": {
    "tags": []
   },
   "outputs": [],
   "source": [
    "# S - O número de paises unicos\n",
    "# P - Irei selecionar a coluna de country e utlizarei o contador de itens 'nunique' para descobri a quantidade de paises unicos\n",
    "# E - Dataframe, e a coluna country"
   ]
  },
  {
   "cell_type": "code",
   "execution_count": 20,
   "id": "d00feaab-15e7-4971-89e0-fc3bd44ef7d0",
   "metadata": {
    "tags": []
   },
   "outputs": [
    {
     "name": "stdout",
     "output_type": "stream",
     "text": [
      "Os paises Unicos registradatos são: 15\n"
     ]
    }
   ],
   "source": [
    "aux=df1.loc[:,'country'].nunique()\n",
    "print(f'Os paises Unicos registradatos são: {aux}')"
   ]
  },
  {
   "cell_type": "markdown",
   "id": "8053583b-8bc5-42b0-bc1f-4c9adc6838ab",
   "metadata": {
    "tags": []
   },
   "source": [
    "## 3. Quantas cidades únicas estão registradas?\n"
   ]
  },
  {
   "cell_type": "code",
   "execution_count": null,
   "id": "78f5ad2a-9e07-43ad-8b6e-455b5f66125f",
   "metadata": {},
   "outputs": [],
   "source": [
    "# S - O número de cidades unicas\n",
    "# P - Irei selecionar a coluna de city e utlizarei o contador de itens 'nunique' para descobri a quantidade de cidades unicas\n",
    "# E - Dataframe, e a coluna city"
   ]
  },
  {
   "cell_type": "code",
   "execution_count": 22,
   "id": "403d9252-c52f-4ba0-ac8b-fa9750dd233d",
   "metadata": {
    "tags": []
   },
   "outputs": [
    {
     "name": "stdout",
     "output_type": "stream",
     "text": [
      "Os cidades Unicas registradatos são: 125\n"
     ]
    }
   ],
   "source": [
    "aux=df1.loc[:,'city'].nunique()\n",
    "print(f'Os cidades Unicas registradatos são: {aux}')"
   ]
  },
  {
   "cell_type": "markdown",
   "id": "942167cb-b526-496c-93c5-1bcece395cd8",
   "metadata": {
    "tags": []
   },
   "source": [
    "## 4. Qual o total de avaliações feitas?\n"
   ]
  },
  {
   "cell_type": "code",
   "execution_count": null,
   "id": "0f6692b2-702d-4443-94ab-94f13f921db0",
   "metadata": {},
   "outputs": [],
   "source": [
    "# S - onúmero de todos de todos os restaurates\n",
    "# P - selecionar a coluna votes e utilizar a função 'sum' para somar todos os votos\n",
    "# E - data frame e coluna votes"
   ]
  },
  {
   "cell_type": "code",
   "execution_count": 25,
   "id": "c02d36d5-946d-4683-9f2e-90bad131e63b",
   "metadata": {
    "tags": []
   },
   "outputs": [
    {
     "name": "stdout",
     "output_type": "stream",
     "text": [
      "O total de avaliações é 4194533\n"
     ]
    }
   ],
   "source": [
    "aux = df1.loc[:, 'votes'].sum()\n",
    "print(f'O total de avaliações é {aux}')"
   ]
  },
  {
   "cell_type": "markdown",
   "id": "58f4ca02-c381-4449-9e64-60d7b8f0cda8",
   "metadata": {
    "tags": []
   },
   "source": [
    "## 5. Qual o total de tipos de culinária registrados?"
   ]
  },
  {
   "cell_type": "code",
   "execution_count": null,
   "id": "51c4eb45-f957-4a72-a519-7139c050e5d7",
   "metadata": {},
   "outputs": [],
   "source": [
    "# S - A quantidade de coluninarias unicas registradas\n",
    "# P - Irei selecionar a coluna cuisines_number e utilizar a função nunique para saber quantas culinarias unicas o df possui\n",
    "# E - data frame e coluna cuisines_number"
   ]
  },
  {
   "cell_type": "code",
   "execution_count": 28,
   "id": "18894efb-5f4b-45d7-b4ef-4f1106bbb246",
   "metadata": {
    "tags": []
   },
   "outputs": [
    {
     "name": "stdout",
     "output_type": "stream",
     "text": [
      "O total de tipos de culinarias é 165\n"
     ]
    }
   ],
   "source": [
    "aux = df1.loc[:, 'cuisines_number'].nunique()\n",
    "print(f'O total de tipos de culinarias é {aux}')"
   ]
  },
  {
   "cell_type": "markdown",
   "id": "52f76a0d-9d9a-45bd-97fb-bfd45ceba79d",
   "metadata": {
    "tags": []
   },
   "source": [
    "# Pais"
   ]
  },
  {
   "cell_type": "markdown",
   "id": "8b5a86dc-a9e6-46a5-96b4-04196a273e46",
   "metadata": {
    "jp-MarkdownHeadingCollapsed": true,
    "tags": []
   },
   "source": [
    "## 1. Qual o nome do país que possui mais cidades registradas?\n"
   ]
  },
  {
   "cell_type": "code",
   "execution_count": null,
   "id": "0f01a77a-f71c-4f86-a526-38f92bc1afa8",
   "metadata": {},
   "outputs": [],
   "source": [
    "# S - Irei entregar o nome do Pais que mais possui cidades registradas\n",
    "# P - irei selecionar as colunas de 'country', 'city' e irei agrupar utilizando a função group bye pedir para mostrar os valores unicos por pais e \n",
    "#depois utilizarei um sort_values para selecionar do maior para o meno\n",
    "# E - data frame e 'country', city'"
   ]
  },
  {
   "cell_type": "code",
   "execution_count": 14,
   "id": "28259c25-3b29-4923-8699-06371644396d",
   "metadata": {
    "tags": []
   },
   "outputs": [
    {
     "data": {
      "text/html": [
       "<div>\n",
       "<style scoped>\n",
       "    .dataframe tbody tr th:only-of-type {\n",
       "        vertical-align: middle;\n",
       "    }\n",
       "\n",
       "    .dataframe tbody tr th {\n",
       "        vertical-align: top;\n",
       "    }\n",
       "\n",
       "    .dataframe thead th {\n",
       "        text-align: right;\n",
       "    }\n",
       "</style>\n",
       "<table border=\"1\" class=\"dataframe\">\n",
       "  <thead>\n",
       "    <tr style=\"text-align: right;\">\n",
       "      <th></th>\n",
       "      <th>country</th>\n",
       "      <th>city</th>\n",
       "    </tr>\n",
       "  </thead>\n",
       "  <tbody>\n",
       "    <tr>\n",
       "      <th>0</th>\n",
       "      <td>India</td>\n",
       "      <td>49</td>\n",
       "    </tr>\n",
       "    <tr>\n",
       "      <th>1</th>\n",
       "      <td>United States of America</td>\n",
       "      <td>22</td>\n",
       "    </tr>\n",
       "    <tr>\n",
       "      <th>2</th>\n",
       "      <td>Philippines</td>\n",
       "      <td>12</td>\n",
       "    </tr>\n",
       "    <tr>\n",
       "      <th>3</th>\n",
       "      <td>South Africa</td>\n",
       "      <td>12</td>\n",
       "    </tr>\n",
       "    <tr>\n",
       "      <th>4</th>\n",
       "      <td>England</td>\n",
       "      <td>5</td>\n",
       "    </tr>\n",
       "    <tr>\n",
       "      <th>5</th>\n",
       "      <td>New Zeland</td>\n",
       "      <td>4</td>\n",
       "    </tr>\n",
       "    <tr>\n",
       "      <th>6</th>\n",
       "      <td>United Arab Emirates</td>\n",
       "      <td>4</td>\n",
       "    </tr>\n",
       "    <tr>\n",
       "      <th>7</th>\n",
       "      <td>Australia</td>\n",
       "      <td>3</td>\n",
       "    </tr>\n",
       "    <tr>\n",
       "      <th>8</th>\n",
       "      <td>Brazil</td>\n",
       "      <td>3</td>\n",
       "    </tr>\n",
       "    <tr>\n",
       "      <th>9</th>\n",
       "      <td>Canada</td>\n",
       "      <td>3</td>\n",
       "    </tr>\n",
       "    <tr>\n",
       "      <th>10</th>\n",
       "      <td>Indonesia</td>\n",
       "      <td>3</td>\n",
       "    </tr>\n",
       "    <tr>\n",
       "      <th>11</th>\n",
       "      <td>Turkey</td>\n",
       "      <td>2</td>\n",
       "    </tr>\n",
       "    <tr>\n",
       "      <th>12</th>\n",
       "      <td>Qatar</td>\n",
       "      <td>1</td>\n",
       "    </tr>\n",
       "    <tr>\n",
       "      <th>13</th>\n",
       "      <td>Singapure</td>\n",
       "      <td>1</td>\n",
       "    </tr>\n",
       "    <tr>\n",
       "      <th>14</th>\n",
       "      <td>Sri Lanka</td>\n",
       "      <td>1</td>\n",
       "    </tr>\n",
       "  </tbody>\n",
       "</table>\n",
       "</div>"
      ],
      "text/plain": [
       "                     country  city\n",
       "0                      India    49\n",
       "1   United States of America    22\n",
       "2                Philippines    12\n",
       "3               South Africa    12\n",
       "4                    England     5\n",
       "5                 New Zeland     4\n",
       "6       United Arab Emirates     4\n",
       "7                  Australia     3\n",
       "8                     Brazil     3\n",
       "9                     Canada     3\n",
       "10                 Indonesia     3\n",
       "11                    Turkey     2\n",
       "12                     Qatar     1\n",
       "13                 Singapure     1\n",
       "14                 Sri Lanka     1"
      ]
     },
     "execution_count": 14,
     "metadata": {},
     "output_type": "execute_result"
    }
   ],
   "source": [
    "aux = df1.loc[:,['country', 'city']].groupby(['country']).nunique()\n",
    "aux1 = aux.sort_values(by='city', ascending=False).reset_index()\n",
    "aux1\n",
    "#aux1.iloc[0,0]"
   ]
  },
  {
   "cell_type": "markdown",
   "id": "ac5d42b8-39ba-4a2a-812d-cc0e82f2d201",
   "metadata": {},
   "source": [
    "## 2. Qual o nome do país que possui mais restaurantes registrados?\n"
   ]
  },
  {
   "cell_type": "code",
   "execution_count": 26,
   "id": "d5726441-2929-4f0e-9865-5ae54afc1cc7",
   "metadata": {
    "tags": []
   },
   "outputs": [],
   "source": [
    "# S - Irei entregar o nome do Pais que mais possui restaurantes registradas\n",
    "# P - irei selecionar as colunas de 'country', 'restaurant_id' e irei agrupar utilizando a função group bye pedir para mostrar os valores unicos por pais e \n",
    "#depois utilizarei um sort_values para selecionar do maior para o meno\n",
    "# E - data frame e 'country', 'restaurant_id'"
   ]
  },
  {
   "cell_type": "code",
   "execution_count": 34,
   "id": "c847c13d-165e-4f46-9758-c46e67a2c206",
   "metadata": {
    "tags": []
   },
   "outputs": [
    {
     "data": {
      "text/plain": [
       "'India'"
      ]
     },
     "execution_count": 34,
     "metadata": {},
     "output_type": "execute_result"
    }
   ],
   "source": [
    "aux = df1.loc[:,['country', 'restaurant_id']].groupby(['country']).nunique()\n",
    "aux1 = aux.sort_values(by='restaurant_id', ascending=False).reset_index()\n",
    "aux1.iloc[0,0]"
   ]
  },
  {
   "cell_type": "markdown",
   "id": "805fcb40-caef-4027-8362-7cb05b45876d",
   "metadata": {},
   "source": [
    "## 3. Qual o nome do país que possui mais restaurantes com o nível de preço igual a 4 registrados?"
   ]
  },
  {
   "cell_type": "code",
   "execution_count": null,
   "id": "411f9822-04e3-4d38-ac75-af6ea50a6a4f",
   "metadata": {},
   "outputs": [],
   "source": [
    "# S - Irei entregar o nome do Pais que mais possui restaurantes com nivél igual a 4 resgistrados\n",
    "# P - irei selecionar as colunas de 'country', 'restaurant_id' e 'price_range' \n",
    "# irei selecionar todas as linhas que possuem price_range = 4 e depois irei agrupar os restaurentes por pais;\n",
    "# irei utilizar a função nunique para ficar somente os restaurantes unicos e depois irei utilizar o sort_values para ooderna\n",
    "# E - data frame e 'country', 'restaurant_id', 'price_range'"
   ]
  },
  {
   "cell_type": "code",
   "execution_count": 61,
   "id": "e9e36c32-e72a-4910-8c15-3a56c686aacc",
   "metadata": {
    "tags": []
   },
   "outputs": [
    {
     "data": {
      "text/plain": [
       "'United States of America'"
      ]
     },
     "execution_count": 61,
     "metadata": {},
     "output_type": "execute_result"
    }
   ],
   "source": [
    "aux = df1.loc[df1['price_range'] == 4,['country','restaurant_id','price_range']].groupby(['country']).nunique()\n",
    "aux = aux.sort_values(by='restaurant_id', ascending=False).reset_index().iloc[0,0]\n",
    "aux"
   ]
  },
  {
   "cell_type": "markdown",
   "id": "4147a08a-2118-4571-bd58-d93d75849d0f",
   "metadata": {
    "tags": []
   },
   "source": [
    "## 4. Qual o nome do país que possui a maior quantidade de tipos de culinária distintos?"
   ]
  },
  {
   "cell_type": "code",
   "execution_count": 62,
   "id": "78157e81-d4fc-4706-85d0-3a2382f69ba7",
   "metadata": {
    "tags": []
   },
   "outputs": [],
   "source": [
    "# S - Irei entregar o nome do Pais que mais possui colinarias distintas\n",
    "# P - irei selecionar as colunas de 'country',  'cuisines_number' \n",
    "# Irei utilizar a função groupy para agrupar por pais e depois utilizarei a função nunique para a coluna cuisines_number\n",
    "# irei utilizar a função nunique para ficar somente os restaurantes unicos e depois irei utilizar o sort_values para ooderna\n",
    "# E - data frame e 'country',  'cuisines_number'"
   ]
  },
  {
   "cell_type": "code",
   "execution_count": 74,
   "id": "2dc94bfb-2066-41d2-a455-fb5189406d5f",
   "metadata": {
    "tags": []
   },
   "outputs": [
    {
     "data": {
      "text/plain": [
       "'India'"
      ]
     },
     "execution_count": 74,
     "metadata": {},
     "output_type": "execute_result"
    }
   ],
   "source": [
    "aux = df1.loc[:,['country','cuisines_number']].groupby(['country']).nunique().sort_values(by='cuisines_number', ascending=False).reset_index().iloc[0,0]\n",
    "aux\n"
   ]
  },
  {
   "cell_type": "markdown",
   "id": "657694b5-1c98-4f1d-8baf-662c80fe6e78",
   "metadata": {
    "tags": []
   },
   "source": [
    "## 5. Qual o nome do país que possui a maior quantidade de avaliações feitas?\n"
   ]
  },
  {
   "cell_type": "code",
   "execution_count": null,
   "id": "629a84a7-f816-41a8-a4bc-7e4c154baae8",
   "metadata": {},
   "outputs": [],
   "source": [
    "# S - Irei entregar o nome do Pais que mais possui avaliações\n",
    "# P - irei selecionar as colunas de 'country',  'votes' \n",
    "# Irei utilizar a função groupy para agrupar por pais e depois utilizarei a função sum para a coluna votes\n",
    "# irei  sort_values para ooderna\n",
    "# E - data frame e 'country',  'votes'"
   ]
  },
  {
   "cell_type": "code",
   "execution_count": 80,
   "id": "043f977d-3ec3-4a2d-9aaf-3838e2385fb7",
   "metadata": {
    "tags": []
   },
   "outputs": [
    {
     "data": {
      "text/plain": [
       "'India'"
      ]
     },
     "execution_count": 80,
     "metadata": {},
     "output_type": "execute_result"
    }
   ],
   "source": [
    "aux = (df1.loc[:,['country','votes']].groupby(['country'])\n",
    "                                    .sum()\n",
    "                                    .sort_values(by='votes', ascending=False)\n",
    "                                    .reset_index()\n",
    "                                    .iloc[0,0])\n",
    "\n",
    "aux"
   ]
  },
  {
   "cell_type": "markdown",
   "id": "32ca6437-70b8-45d0-b9a5-bc37a6be48b8",
   "metadata": {
    "tags": []
   },
   "source": [
    "## 6. Qual o nome do país que possui a maior quantidade de restaurantes que fazem entrega?\n"
   ]
  },
  {
   "cell_type": "code",
   "execution_count": null,
   "id": "2d950592-789b-41f9-9047-8658c785091f",
   "metadata": {},
   "outputs": [],
   "source": [
    "# S - Irei entregar o nome do Pais que mais possui restaurantes fazendo entregas\n",
    "# P - irei selecionar as colunas de 'country',  'is_delivering_now' , 'restaurant_id'\n",
    "# irei selecionar apenas as linhas dcom o valor 1 na coluna Is delivering now do dataframe\n",
    "# Irei utilizar a função groupy para agrupar por pais e depois utilizarei a função nunique para a coluna restaurant_id\n",
    "#para saber somente os restaurantes unicos\n",
    "# irei  sort_values para ooderna\n",
    "# E - data frame e 'country',  'is_delivering_now' , 'restaurant_id'"
   ]
  },
  {
   "cell_type": "code",
   "execution_count": 89,
   "id": "d69e7a58-af07-4c8f-b9c9-374d95b1ba0c",
   "metadata": {
    "tags": []
   },
   "outputs": [
    {
     "data": {
      "text/plain": [
       "'India'"
      ]
     },
     "execution_count": 89,
     "metadata": {},
     "output_type": "execute_result"
    }
   ],
   "source": [
    "aux = (df1.loc[df1['is_delivering_now'] == 1,['country','restaurant_id']].groupby(['country'])\n",
    "                                                                        .nunique()\n",
    "                                                                        .sort_values(by='restaurant_id', ascending=False)\n",
    "                                                                        .reset_index()\n",
    "                                                                        .iloc[0,0])\n",
    "aux"
   ]
  },
  {
   "cell_type": "markdown",
   "id": "0081a023-cc47-46ff-998b-7b02c0f084ee",
   "metadata": {},
   "source": [
    "## 7. Qual o nome do país que possui a maior quantidade de restaurantes que aceitam reservas?"
   ]
  },
  {
   "cell_type": "code",
   "execution_count": 81,
   "id": "8c49b5ce-5a7c-4b87-89df-6a31c455e249",
   "metadata": {
    "tags": []
   },
   "outputs": [
    {
     "data": {
      "text/plain": [
       "Index(['restaurant_id', 'restaurant_name', 'country', 'city', 'address',\n",
       "       'locality', 'locality_verbose', 'longitude', 'latitude', 'cuisines',\n",
       "       'cuisines_number', 'average_cost_for_two', 'currency',\n",
       "       'has_table_booking', 'has_online_delivery', 'is_delivering_now',\n",
       "       'price_range', 'price_type', 'aggregate_rating', 'rating_color',\n",
       "       'color_name', 'rating_text', 'votes'],\n",
       "      dtype='object')"
      ]
     },
     "execution_count": 81,
     "metadata": {},
     "output_type": "execute_result"
    }
   ],
   "source": [
    "# S - Irei entregar o nome do Pais que mais possui restaurantes fazendo reservas\n",
    "# P - irei selecionar as colunas de 'country',  'has_table_booking' , 'restaurant_id'\n",
    "# irei selecionar apenas as linhas dcom o valor 1 na coluna has_table_booking do dataframe\n",
    "# Irei utilizar a função groupy para agrupar por pais e depois utilizarei a função nunique para a coluna restaurant_id\n",
    "#para saber somente os restaurantes unicos\n",
    "# irei  sort_values para ooderna\n",
    "# E - data frame e 'country',  'has_table_booking' , 'restaurant_id'"
   ]
  },
  {
   "cell_type": "code",
   "execution_count": 92,
   "id": "15b844da-695f-4877-8d03-d9fe00980556",
   "metadata": {
    "tags": []
   },
   "outputs": [
    {
     "data": {
      "text/plain": [
       "'India'"
      ]
     },
     "execution_count": 92,
     "metadata": {},
     "output_type": "execute_result"
    }
   ],
   "source": [
    "aux = (df1.loc[df1['has_table_booking'] == 1 , ['country','restaurant_id']].groupby(['country'])\n",
    "                                                                           .nunique()\n",
    "                                                                           .sort_values(by='restaurant_id', ascending=False)\n",
    "                                                                           .reset_index()\n",
    "                                                                           .iloc[0,0])\n",
    "aux\n",
    "\n"
   ]
  },
  {
   "cell_type": "markdown",
   "id": "99d262cc-bef7-4e6e-ae02-f9c3bbb551e0",
   "metadata": {},
   "source": [
    "## 8. Qual o nome do país que possui, na média, a maior quantidade de avaliações registrada?"
   ]
  },
  {
   "cell_type": "code",
   "execution_count": null,
   "id": "b311ef20-a315-4529-aea4-c3011d2f7e45",
   "metadata": {},
   "outputs": [],
   "source": [
    "#So Nome do pais que possui o maior valor medio de avaliações\n",
    "#P Irei selecionar as colunas de country, votes \n",
    "# após irei utilizar a função groupy para agrupar por pais e depois irei calcular a media dos votos por pais\n",
    "#D data frame , as colunas country, votes "
   ]
  },
  {
   "cell_type": "code",
   "execution_count": 98,
   "id": "c8685805-ff65-4db7-b243-c669c3f3b474",
   "metadata": {
    "tags": []
   },
   "outputs": [
    {
     "data": {
      "text/plain": [
       "'Indonesia'"
      ]
     },
     "execution_count": 98,
     "metadata": {},
     "output_type": "execute_result"
    }
   ],
   "source": [
    "aux = df1.loc[:,['country','votes']].groupby(['country']).mean().sort_values(by='votes', ascending=False).reset_index().iloc[0,0]\n",
    "aux"
   ]
  },
  {
   "cell_type": "markdown",
   "id": "6c63d8ce-bbde-40d8-a453-9c4ac2c9375b",
   "metadata": {},
   "source": [
    "## 9. Qual o nome do país que possui, na média, a maior nota média registrada?\n"
   ]
  },
  {
   "cell_type": "code",
   "execution_count": null,
   "id": "795e930e-84c1-419f-929c-07124a232255",
   "metadata": {},
   "outputs": [],
   "source": [
    "#So Nome do pais que possui o maior nota media de avaliações\n",
    "#P Irei selecionar as colunas de country, aggregate_rating \n",
    "# após irei utilizar a função groupy para agrupar por pais e depois irei calcular a media dos votos por pais\n",
    "#D data frame , as colunas country, aggregate_rating "
   ]
  },
  {
   "cell_type": "code",
   "execution_count": 102,
   "id": "a4966812-6e4b-485c-95b6-dca1fbad0c61",
   "metadata": {
    "tags": []
   },
   "outputs": [
    {
     "data": {
      "text/plain": [
       "'Indonesia'"
      ]
     },
     "execution_count": 102,
     "metadata": {},
     "output_type": "execute_result"
    }
   ],
   "source": [
    "aux = df1.loc[:,['country','aggregate_rating']].groupby(['country']).mean().sort_values(by='aggregate_rating', ascending=False).reset_index().iloc[0,0]\n",
    "aux"
   ]
  },
  {
   "cell_type": "markdown",
   "id": "e9902e55-d09d-4bf4-9800-e858543b35b8",
   "metadata": {},
   "source": [
    "## 10. Qual o nome do país que possui, na média, a menor nota média registrada?\n"
   ]
  },
  {
   "cell_type": "code",
   "execution_count": null,
   "id": "1551ea7e-612d-4199-a44e-f055d32872ae",
   "metadata": {},
   "outputs": [],
   "source": [
    "#So Nome do pais que possui a menor  nota media de avaliações\n",
    "#P Irei selecionar as colunas de country, aggregate_rating \n",
    "# após irei utilizar a função groupy para agrupar por pais e depois irei calcular a media dos votos por pais\n",
    "#D data frame , as colunas country, aggregate_rating "
   ]
  },
  {
   "cell_type": "code",
   "execution_count": 104,
   "id": "09fc7a5f-a13c-441a-87b4-2a78fa69935b",
   "metadata": {
    "tags": []
   },
   "outputs": [
    {
     "data": {
      "text/plain": [
       "'Brazil'"
      ]
     },
     "execution_count": 104,
     "metadata": {},
     "output_type": "execute_result"
    }
   ],
   "source": [
    "aux = df1.loc[:,['country','aggregate_rating']].groupby(['country']).mean().sort_values(by='aggregate_rating', ascending=True).reset_index().iloc[0,0]\n",
    "aux"
   ]
  },
  {
   "cell_type": "markdown",
   "id": "e5632292-229a-48d1-af54-4ece313df057",
   "metadata": {
    "tags": []
   },
   "source": [
    "## 11. Qual a média de preço de um prato para dois por país?\n"
   ]
  },
  {
   "cell_type": "code",
   "execution_count": null,
   "id": "f17949f2-8298-4433-857b-fa3358788213",
   "metadata": {},
   "outputs": [],
   "source": [
    "#Irei dar uma tabela com o preço medio para dois por país\n",
    "#P Irei selecionar as colunas de country, average_cost_for_two \n",
    "# após irei utilizar a função groupy para agrupar por pais e depois irei calcular a media dos votos por pais\n",
    "#D data frame , as colunas country, aggregate_rating"
   ]
  },
  {
   "cell_type": "code",
   "execution_count": 110,
   "id": "8c8bd769-4dbc-426a-97be-9c90891de175",
   "metadata": {
    "tags": []
   },
   "outputs": [
    {
     "data": {
      "text/html": [
       "<div>\n",
       "<style scoped>\n",
       "    .dataframe tbody tr th:only-of-type {\n",
       "        vertical-align: middle;\n",
       "    }\n",
       "\n",
       "    .dataframe tbody tr th {\n",
       "        vertical-align: top;\n",
       "    }\n",
       "\n",
       "    .dataframe thead th {\n",
       "        text-align: right;\n",
       "    }\n",
       "</style>\n",
       "<table border=\"1\" class=\"dataframe\">\n",
       "  <thead>\n",
       "    <tr style=\"text-align: right;\">\n",
       "      <th></th>\n",
       "      <th>country</th>\n",
       "      <th>currency</th>\n",
       "      <th>average_cost_for_two</th>\n",
       "    </tr>\n",
       "  </thead>\n",
       "  <tbody>\n",
       "    <tr>\n",
       "      <th>0</th>\n",
       "      <td>Indonesia</td>\n",
       "      <td>Indonesian Rupiah(IDR)</td>\n",
       "      <td>303000.000000</td>\n",
       "    </tr>\n",
       "    <tr>\n",
       "      <th>1</th>\n",
       "      <td>Australia</td>\n",
       "      <td>Dollar($)</td>\n",
       "      <td>138959.783333</td>\n",
       "    </tr>\n",
       "    <tr>\n",
       "      <th>2</th>\n",
       "      <td>Sri Lanka</td>\n",
       "      <td>Sri Lankan Rupee(LKR)</td>\n",
       "      <td>2579.375000</td>\n",
       "    </tr>\n",
       "    <tr>\n",
       "      <th>3</th>\n",
       "      <td>Philippines</td>\n",
       "      <td>Botswana Pula(P)</td>\n",
       "      <td>1227.825000</td>\n",
       "    </tr>\n",
       "    <tr>\n",
       "      <th>4</th>\n",
       "      <td>India</td>\n",
       "      <td>Indian Rupees(Rs.)</td>\n",
       "      <td>704.400514</td>\n",
       "    </tr>\n",
       "    <tr>\n",
       "      <th>5</th>\n",
       "      <td>South Africa</td>\n",
       "      <td>Rand(R)</td>\n",
       "      <td>339.228324</td>\n",
       "    </tr>\n",
       "    <tr>\n",
       "      <th>6</th>\n",
       "      <td>Qatar</td>\n",
       "      <td>Qatari Rial(QR)</td>\n",
       "      <td>174.000000</td>\n",
       "    </tr>\n",
       "    <tr>\n",
       "      <th>7</th>\n",
       "      <td>United Arab Emirates</td>\n",
       "      <td>Emirati Diram(AED)</td>\n",
       "      <td>153.716667</td>\n",
       "    </tr>\n",
       "    <tr>\n",
       "      <th>8</th>\n",
       "      <td>Singapure</td>\n",
       "      <td>Dollar($)</td>\n",
       "      <td>141.437500</td>\n",
       "    </tr>\n",
       "    <tr>\n",
       "      <th>9</th>\n",
       "      <td>Brazil</td>\n",
       "      <td>Brazilian Real(R$)</td>\n",
       "      <td>138.812500</td>\n",
       "    </tr>\n",
       "    <tr>\n",
       "      <th>10</th>\n",
       "      <td>Turkey</td>\n",
       "      <td>Turkish Lira(TL)</td>\n",
       "      <td>128.584906</td>\n",
       "    </tr>\n",
       "    <tr>\n",
       "      <th>11</th>\n",
       "      <td>New Zeland</td>\n",
       "      <td>NewZealand($)</td>\n",
       "      <td>62.154812</td>\n",
       "    </tr>\n",
       "    <tr>\n",
       "      <th>12</th>\n",
       "      <td>United States of America</td>\n",
       "      <td>Dollar($)</td>\n",
       "      <td>55.029840</td>\n",
       "    </tr>\n",
       "    <tr>\n",
       "      <th>13</th>\n",
       "      <td>England</td>\n",
       "      <td>Pounds(£)</td>\n",
       "      <td>43.510000</td>\n",
       "    </tr>\n",
       "    <tr>\n",
       "      <th>14</th>\n",
       "      <td>Canada</td>\n",
       "      <td>Dollar($)</td>\n",
       "      <td>41.861111</td>\n",
       "    </tr>\n",
       "  </tbody>\n",
       "</table>\n",
       "</div>"
      ],
      "text/plain": [
       "                     country                currency  average_cost_for_two\n",
       "0                  Indonesia  Indonesian Rupiah(IDR)         303000.000000\n",
       "1                  Australia               Dollar($)         138959.783333\n",
       "2                  Sri Lanka   Sri Lankan Rupee(LKR)           2579.375000\n",
       "3                Philippines        Botswana Pula(P)           1227.825000\n",
       "4                      India      Indian Rupees(Rs.)            704.400514\n",
       "5               South Africa                 Rand(R)            339.228324\n",
       "6                      Qatar         Qatari Rial(QR)            174.000000\n",
       "7       United Arab Emirates      Emirati Diram(AED)            153.716667\n",
       "8                  Singapure               Dollar($)            141.437500\n",
       "9                     Brazil      Brazilian Real(R$)            138.812500\n",
       "10                    Turkey        Turkish Lira(TL)            128.584906\n",
       "11                New Zeland           NewZealand($)             62.154812\n",
       "12  United States of America               Dollar($)             55.029840\n",
       "13                   England               Pounds(£)             43.510000\n",
       "14                    Canada               Dollar($)             41.861111"
      ]
     },
     "execution_count": 110,
     "metadata": {},
     "output_type": "execute_result"
    }
   ],
   "source": [
    "aux = df1.loc[:,['country','currency','average_cost_for_two']].groupby(['country','currency']).mean().sort_values(by='average_cost_for_two', ascending=False).reset_index()\n",
    "aux"
   ]
  },
  {
   "cell_type": "markdown",
   "id": "bf5c17d2-11c4-464c-9a64-8cdc184133f6",
   "metadata": {
    "tags": []
   },
   "source": [
    "# Cidade"
   ]
  },
  {
   "cell_type": "markdown",
   "id": "d218a423-b780-41cf-9972-5c132c07f111",
   "metadata": {},
   "source": [
    "## 1. Qual o nome da cidade que possui mais restaurantes registrados?\n"
   ]
  },
  {
   "cell_type": "code",
   "execution_count": null,
   "id": "a1818745-0dcd-4300-8390-132a491da608",
   "metadata": {},
   "outputs": [],
   "source": [
    "#S O nome da cidade que mais possui restaurantes registrados\n",
    "#P Selecionar as colunas city, restaurant_id\n",
    "#Irei utilizar a função grouby e a função nunique que faram o agrupamento e contar somente os restaurantes unicos, \n",
    "#depois utilizarei o sort_values e selecionarei a linha que tiver mais restaurante\n",
    "#Edataframe, colunas city, restaurant_id"
   ]
  },
  {
   "cell_type": "code",
   "execution_count": 15,
   "id": "e3abc9c2-1eae-4a8c-99f7-3be48a89adc9",
   "metadata": {
    "tags": []
   },
   "outputs": [
    {
     "data": {
      "text/plain": [
       "'Abu Dhabi'"
      ]
     },
     "execution_count": 15,
     "metadata": {},
     "output_type": "execute_result"
    }
   ],
   "source": [
    "aux = df1.loc[:, ['city','restaurant_id']].groupby(['city']).nunique().sort_values(by='restaurant_id', ascending=False).reset_index().iloc[0,0]\n",
    "aux"
   ]
  },
  {
   "cell_type": "markdown",
   "id": "19d1cdb7-b453-4d77-8acc-1f65d99fb286",
   "metadata": {},
   "source": [
    "## 2. Qual o nome da cidade que possui mais restaurantes com nota média acima de 4?\n"
   ]
  },
  {
   "cell_type": "code",
   "execution_count": null,
   "id": "9f53f693-3590-4d07-92ed-13b5914fb93d",
   "metadata": {},
   "outputs": [],
   "source": [
    "#S O nome da cidade que mais possui restaurantes com nota média acima de 4\n",
    "#P Selecionar as colunas city, restaurant_id, aggregate_rating\n",
    "# irei filtrar as linhas da coluna aggregate_rating para somente a nota media acima de 4\n",
    "#Irei utilizar a função grouby e a função nunique que faram o agrupamento e contar somente os restaurantes unicos, \n",
    "#depois utilizarei o sort_values e selecionarei a linha que tiver mais restaurante\n",
    "#Edataframe, colunas city, restaurant_id , aggregate_rating"
   ]
  },
  {
   "cell_type": "code",
   "execution_count": 19,
   "id": "7f5d24ef-b45e-4b2a-a397-5c44a45fff3b",
   "metadata": {
    "tags": []
   },
   "outputs": [
    {
     "data": {
      "text/plain": [
       "'Bangalore'"
      ]
     },
     "execution_count": 19,
     "metadata": {},
     "output_type": "execute_result"
    }
   ],
   "source": [
    "aux = df1.loc[df1['aggregate_rating']>4,['city','restaurant_id']].groupby(['city']).nunique().sort_values(by='restaurant_id', ascending=False).reset_index().iloc[0,0]\n",
    "aux"
   ]
  },
  {
   "cell_type": "markdown",
   "id": "08406195-e289-4190-83c4-2e3afbf0e666",
   "metadata": {},
   "source": [
    "## 3. Qual o nome da cidade que possui mais restaurantes com nota média abaixo de 2.5?\n"
   ]
  },
  {
   "cell_type": "code",
   "execution_count": null,
   "id": "12c32359-5d37-4f25-ba89-8559a6041cd3",
   "metadata": {},
   "outputs": [],
   "source": [
    "#S O nome da cidade que mais possui restaurantes com nota média abaixo de 2.5\n",
    "#P Selecionar as colunas city, restaurant_id, aggregate_rating\n",
    "# irei filtrar as linhas da coluna aggregate_rating para somente a nota media abaixo de 2.5\n",
    "#Irei utilizar a função grouby e a função nunique que faram o agrupamento e contar somente os restaurantes unicos, \n",
    "#depois utilizarei o sort_values e selecionarei a linha que tiver mais restaurante\n",
    "#Edataframe, colunas city, restaurant_id , aggregate_rating"
   ]
  },
  {
   "cell_type": "code",
   "execution_count": 20,
   "id": "55ea3966-3d45-4eae-9bef-f8ef839be6df",
   "metadata": {
    "tags": []
   },
   "outputs": [
    {
     "data": {
      "text/plain": [
       "'Gangtok'"
      ]
     },
     "execution_count": 20,
     "metadata": {},
     "output_type": "execute_result"
    }
   ],
   "source": [
    "aux = df1.loc[df1['aggregate_rating']<2.5,['city','restaurant_id']].groupby(['city']).nunique().sort_values(by='restaurant_id', ascending=False).reset_index().iloc[0,0]\n",
    "aux"
   ]
  },
  {
   "cell_type": "markdown",
   "id": "683f4976-8549-4757-bc9b-d0062a3cebbe",
   "metadata": {},
   "source": [
    "## 4. Qual o nome da cidade que possui o maior valor médio de um prato para dois?"
   ]
  },
  {
   "cell_type": "code",
   "execution_count": null,
   "id": "9a7d7d6a-3691-483e-a608-9211346060a4",
   "metadata": {},
   "outputs": [],
   "source": [
    "#S O nome da cidade que possui o maior valor de prato medio para dois\n",
    "#P Irei selecionar as colunas de city,average_cost_for_two\n",
    "# irei agrupar utilizando a função groupby e tirar as medias através da função mean e depois \n",
    "# colocar em ordem com a função sort_values\n",
    "#E data frame colunas city,average_cost_for_two\n"
   ]
  },
  {
   "cell_type": "code",
   "execution_count": 24,
   "id": "feb6b6ae-690f-4cac-a638-299c2b064ac5",
   "metadata": {
    "tags": []
   },
   "outputs": [
    {
     "data": {
      "text/plain": [
       "'Adelaide'"
      ]
     },
     "execution_count": 24,
     "metadata": {},
     "output_type": "execute_result"
    }
   ],
   "source": [
    "aux = df1.loc[:,['city','average_cost_for_two']].groupby(['city']).mean().sort_values(by='average_cost_for_two', ascending=False).reset_index().iloc[0,0]\n",
    "aux"
   ]
  },
  {
   "cell_type": "markdown",
   "id": "d90bd793-9f6c-41a1-bf01-b110021b1581",
   "metadata": {},
   "source": [
    "## 5. Qual o nome da cidade que possui a maior quantidade de tipos de culinária distintas?\n"
   ]
  },
  {
   "cell_type": "code",
   "execution_count": null,
   "id": "16fd9bc5-0bb4-44aa-8266-393dcb8936bb",
   "metadata": {},
   "outputs": [],
   "source": [
    "#SO nome da cidade que possui maior variedade de tipos de colinaria\n",
    "#P Irei selecionar as colunas com a função loc e depois agrupar com a função groupby\n",
    "# logo após irei selecionar os valores unicos e contalos \n",
    "# irei order com a função sort_values e reseta o index selecionando a primeira linha \n",
    "#EData Frame colunas city,cuisines_number"
   ]
  },
  {
   "cell_type": "code",
   "execution_count": 41,
   "id": "9317c834-a15d-4337-9f17-f5a22761261c",
   "metadata": {
    "tags": []
   },
   "outputs": [
    {
     "data": {
      "text/plain": [
       "'Birmingham'"
      ]
     },
     "execution_count": 41,
     "metadata": {},
     "output_type": "execute_result"
    }
   ],
   "source": [
    "aux = df1.loc[:, ['city','cuisines_number']].groupby(['city']).nunique().sort_values(by='cuisines_number', ascending=False).reset_index().iloc[0,0]\n",
    "aux"
   ]
  },
  {
   "cell_type": "markdown",
   "id": "c258a925-4351-4a5c-99a8-e2a37f4a7ca7",
   "metadata": {},
   "source": [
    "## 6. Qual o nome da cidade que possui a maior quantidade de restaurantes que fazem reservas?"
   ]
  },
  {
   "cell_type": "code",
   "execution_count": null,
   "id": "82b8b797-6f9c-4ed9-969b-70e07aa0b383",
   "metadata": {},
   "outputs": [],
   "source": [
    "# S - Irei entregar o nome da Cidade que mais possui restaurantes fazendo reservas\n",
    "# P - irei selecionar as colunas de 'city',  'has_table_booking' , 'restaurant_id'\n",
    "# irei selecionar apenas as linhas dcom o valor 1 na coluna has_table_booking do dataframe\n",
    "# Irei utilizar a função groupy para agrupar por pais e depois utilizarei a função nunique para a coluna restaurant_id\n",
    "#para saber somente os restaurantes unicos\n",
    "# irei  sort_values para ooderna\n",
    "# E - data frame e 'city',  'has_table_booking' , 'restaurant_id'"
   ]
  },
  {
   "cell_type": "code",
   "execution_count": 45,
   "id": "1b641849-8532-4078-af15-c6a9177065cb",
   "metadata": {
    "tags": []
   },
   "outputs": [
    {
     "data": {
      "text/plain": [
       "'Bangalore'"
      ]
     },
     "execution_count": 45,
     "metadata": {},
     "output_type": "execute_result"
    }
   ],
   "source": [
    "aux = df1.loc[df1['has_table_booking']==1, ['city','restaurant_id']].groupby(['city']).nunique().sort_values(by='restaurant_id',ascending=False).reset_index().iloc[0,0]\n",
    "aux"
   ]
  },
  {
   "cell_type": "markdown",
   "id": "d1514808-8aa5-4d7d-bc4d-2d44c2768158",
   "metadata": {},
   "source": [
    "## 7. Qual o nome da cidade que possui a maior quantidade de restaurantes que fazem entregas?\n"
   ]
  },
  {
   "cell_type": "code",
   "execution_count": null,
   "id": "f9134ef7-12f8-4e27-add9-d44210639c53",
   "metadata": {},
   "outputs": [],
   "source": [
    "# S - Irei entregar o nome da CIdade que mais possui restaurantes fazendo entregas\n",
    "# P - irei selecionar as colunas de 'city',  'is_delivering_now' , 'restaurant_id'\n",
    "# irei selecionar apenas as linhas dcom o valor 1 na coluna Is delivering now do dataframe\n",
    "# Irei utilizar a função groupy para agrupar por pais e depois utilizarei a função nunique para a coluna restaurant_id\n",
    "#para saber somente os restaurantes unicos\n",
    "# irei  sort_values para ooderna\n",
    "# E - data frame e 'country',  'is_delivering_now' , 'restaurant_id'"
   ]
  },
  {
   "cell_type": "code",
   "execution_count": 46,
   "id": "529e96b9-c8ae-4da2-ab11-9ef875bfed62",
   "metadata": {
    "tags": []
   },
   "outputs": [
    {
     "data": {
      "text/plain": [
       "'Vadodara'"
      ]
     },
     "execution_count": 46,
     "metadata": {},
     "output_type": "execute_result"
    }
   ],
   "source": [
    "aux = df1.loc[df1['is_delivering_now']==1, ['city','restaurant_id']].groupby(['city']).nunique().sort_values(by='restaurant_id',ascending=False).reset_index().iloc[0,0]\n",
    "aux"
   ]
  },
  {
   "cell_type": "markdown",
   "id": "e2a74a2f-90b9-4abf-8a4b-ec25592fdf4e",
   "metadata": {},
   "source": [
    "## 8. Qual o nome da cidade que possui a maior quantidade de restaurantes que aceitam pedidos online?\n"
   ]
  },
  {
   "cell_type": "code",
   "execution_count": 49,
   "id": "dac0e33b-957b-490b-b3b4-b0e3c3848af1",
   "metadata": {
    "tags": []
   },
   "outputs": [],
   "source": [
    "# S - Irei entregar o nome da CIdade que mais possui restaurantes fazendo entregas\n",
    "# P - irei selecionar as colunas de 'city',  'has_online_delivery' , 'restaurant_id'\n",
    "# irei selecionar apenas as linhas dcom o valor 1 na coluna Is delivering now do dataframe\n",
    "# Irei utilizar a função groupy para agrupar por pais e depois utilizarei a função nunique para a coluna restaurant_id\n",
    "#para saber somente os restaurantes unicos\n",
    "# irei  sort_values para ooderna\n",
    "# E - data frame e 'country',  'has_online_delivery' , 'restaurant_id'"
   ]
  },
  {
   "cell_type": "code",
   "execution_count": 48,
   "id": "96922b73-64b9-4b2e-b7b3-35a5581077f9",
   "metadata": {
    "tags": []
   },
   "outputs": [
    {
     "data": {
      "text/plain": [
       "'Bhopal'"
      ]
     },
     "execution_count": 48,
     "metadata": {},
     "output_type": "execute_result"
    }
   ],
   "source": [
    "aux = df1.loc[df1['has_online_delivery']==1, ['city','restaurant_id']].groupby(['city']).nunique().sort_values(by='restaurant_id',ascending=False).reset_index().iloc[0,0]\n",
    "aux"
   ]
  },
  {
   "cell_type": "markdown",
   "id": "2a4b1bc2-1ce5-419e-81a5-ce46038af5b9",
   "metadata": {
    "tags": []
   },
   "source": [
    "# Restaurantes"
   ]
  },
  {
   "cell_type": "markdown",
   "id": "db267631-2834-408e-85ad-7ec59ba82146",
   "metadata": {
    "jp-MarkdownHeadingCollapsed": true,
    "tags": []
   },
   "source": [
    "## 1. Qual o nome do restaurante que possui a maior quantidade de avaliações?\n"
   ]
  },
  {
   "cell_type": "code",
   "execution_count": null,
   "id": "a3639814-f7b4-4c55-ac1c-52652dc3d81a",
   "metadata": {},
   "outputs": [],
   "source": [
    "# S Irei informar o nome do Restaurante que possui maior quantidade de avaliações\n",
    "# P irei selecionar as colunas de restaurant_name, restaurant_id e votes,\n",
    "# utilizar a função groupby para agrupar por restaurant_name e restaurant_id e depis utilizar a função sum para somar as avaliações\n",
    "# depois colocar em ordem com a função sort_values e reseta os indicis e selecionar a primeira linha\n",
    "# E Data Frame , colunas restaurant_name,votes"
   ]
  },
  {
   "cell_type": "code",
   "execution_count": 22,
   "id": "9626077d-b2e9-4015-9ddd-6ed73093dac2",
   "metadata": {
    "tags": []
   },
   "outputs": [
    {
     "data": {
      "text/plain": [
       "'Bawarchi'"
      ]
     },
     "execution_count": 22,
     "metadata": {},
     "output_type": "execute_result"
    }
   ],
   "source": [
    "aux = df1.loc[:,['restaurant_name','restaurant_id','votes']].groupby(['restaurant_name','restaurant_id']).sum().sort_values(by='votes', ascending=False).reset_index().iloc[0,0]\n",
    "aux"
   ]
  },
  {
   "cell_type": "markdown",
   "id": "77a3ee2b-09ac-41a9-8d37-ec485891ff6e",
   "metadata": {},
   "source": [
    "## 2. Qual o nome do restaurante com a maior nota média?\n"
   ]
  },
  {
   "cell_type": "code",
   "execution_count": null,
   "id": "34997e48-2f35-4ce8-951a-512d9b5eadf5",
   "metadata": {},
   "outputs": [],
   "source": [
    "# S O nome do restaurante com a maior nota média\n",
    "# P Irei selecionar as colunas restaurant_id, colunas restaurant_name,aggregate_rating com a função loc\n",
    "# Logo após irei utilizar a função sort_values para as colunas aggregate_rating,restaurant_id\n",
    "# para que primeiro ele ordene as maiores notas e depois quem são os retaurentes mais antigos (encontrado pelo o menor Número de ID)\n",
    "# E Data Frame ,  colunas restaurant_id,  restaurant_name , aggregate_rating"
   ]
  },
  {
   "cell_type": "code",
   "execution_count": 39,
   "id": "3428f2e2-a014-40af-9555-3f4d6c28c881",
   "metadata": {
    "tags": []
   },
   "outputs": [
    {
     "data": {
      "text/plain": [
       "'Indian Grill Room'"
      ]
     },
     "execution_count": 39,
     "metadata": {},
     "output_type": "execute_result"
    }
   ],
   "source": [
    "aux = df1.loc[:,['restaurant_id','restaurant_name','aggregate_rating']].sort_values(['aggregate_rating','restaurant_id'], ascending = [False,True]).reset_index().iloc[0,2]\n",
    "aux"
   ]
  },
  {
   "cell_type": "markdown",
   "id": "ef2ca365-4c32-428b-a30c-46606994fbac",
   "metadata": {},
   "source": [
    "## 3. Qual o nome do restaurante que possui o maior valor de uma prato para duas pessoas?\n"
   ]
  },
  {
   "cell_type": "code",
   "execution_count": 41,
   "id": "833ec33f-f7fe-4361-b9fc-8c999340ac88",
   "metadata": {
    "tags": []
   },
   "outputs": [],
   "source": [
    "#S entregarei o nome do restaurante que possui o valor mais caro de um prato para duas pessoas\n",
    "#P Irei selecionar as colunas colunas restaurant_id,restaurant_name,average_cost_for_two, com função loc\n",
    "# logo após irei order os valores das colunas average_cost_for_two e restaurant_id, para saber qual é o restaurante mais caro e o mais antigo \n",
    "#E ddataframe, colunas restaurant_id,restaurant_name,average_cost_for_two,"
   ]
  },
  {
   "cell_type": "code",
   "execution_count": 46,
   "id": "1aa8ddd5-e02c-4dfc-a7cd-2ed205b48827",
   "metadata": {
    "tags": []
   },
   "outputs": [
    {
     "data": {
      "text/plain": [
       "\"d'Arry's Verandah Restaurant\""
      ]
     },
     "execution_count": 46,
     "metadata": {},
     "output_type": "execute_result"
    }
   ],
   "source": [
    "aux = df1.loc[:,['restaurant_id','restaurant_name','average_cost_for_two']].sort_values(['average_cost_for_two','restaurant_id'],ascending=[False,True]).reset_index().iloc[0,2]\n",
    "aux"
   ]
  },
  {
   "cell_type": "markdown",
   "id": "4d5c433e-7f94-4da0-a000-ce7260cfcc31",
   "metadata": {},
   "source": [
    "## 4. Qual o nome do restaurante de tipo de culinária brasileira que possui a menor média de avaliação?\n"
   ]
  },
  {
   "cell_type": "code",
   "execution_count": null,
   "id": "c62e6906-8616-4ac3-a218-d2403f617571",
   "metadata": {},
   "outputs": [],
   "source": [
    "# S O nome do rstaurante que possui culinaria Brasileira com a menor media de avaliação\n",
    "# P Irei selecionas primeiro somente as linhas que possuem colinaria brasileira e depois as colunas restaurant_id,restaurant_name, aggregate_rating\n",
    "# logo após irei order os valores das colunas aggregate_rating e restaurant_id, para saber qual é o restaurante menor avaliação  e o mais antigo \n",
    "# E data frame, colunas restaurant_id,restaurant_name, aggregate_rating , cuisines_number"
   ]
  },
  {
   "cell_type": "code",
   "execution_count": 52,
   "id": "639a13e6-ded4-4440-badf-9fea53051bcf",
   "metadata": {
    "tags": []
   },
   "outputs": [
    {
     "data": {
      "text/plain": [
       "'Loca Como tu Madre'"
      ]
     },
     "execution_count": 52,
     "metadata": {},
     "output_type": "execute_result"
    }
   ],
   "source": [
    "aux = df1.loc[df1['cuisines_number'] =='Brazilian',['restaurant_id','restaurant_name','aggregate_rating'] ].sort_values(['aggregate_rating','restaurant_id'], ascending=[True,True]).reset_index().iloc[0,2]\n",
    "aux"
   ]
  },
  {
   "cell_type": "markdown",
   "id": "e2eb1878-6f47-4b2f-baa5-9b8770318242",
   "metadata": {},
   "source": [
    "## 5. Qual o nome do restaurante de tipo de culinária brasileira, e que é do Brasil, que possui a maior média de avaliação?"
   ]
  },
  {
   "cell_type": "code",
   "execution_count": null,
   "id": "bff140ff-69d4-41d6-b88c-b642818ed81a",
   "metadata": {},
   "outputs": [],
   "source": [
    "# S irei entregar o restaurante que possui a maior media de aviação de colinaria brasileira e no pais Brasil\n",
    "# P Irei selecionar as colunas country , restaurant_id,restaurant_name, aggregate_rating , cuisines_number\n",
    "# nas linhas das colunas country e cuisines_number irei filtrar para somente aparecer as linhas que possuem pais Brasil e colinaria Brasileira\n",
    "# Logo após irei utilizar a função loc para selecionar as colunas e irei utilizar a função sort Values para colocar em ordem e reseta o index para pegar o primeiro valor\n",
    "# E data frame colunas country , restaurant_id,restaurant_name, aggregate_rating , cuisines_number"
   ]
  },
  {
   "cell_type": "code",
   "execution_count": 15,
   "id": "b1cb3181-7815-4808-a66f-7c47bc8824c0",
   "metadata": {},
   "outputs": [
    {
     "data": {
      "text/plain": [
       "'Braseiro da Gávea'"
      ]
     },
     "execution_count": 15,
     "metadata": {},
     "output_type": "execute_result"
    }
   ],
   "source": [
    "lins = (df1['country'] == 'Brazil') & (df1['cuisines_number'] =='Brazilian')\n",
    "cols = ['restaurant_id','restaurant_name','aggregate_rating']\n",
    "aux = df1.loc[lins,cols].sort_values(['aggregate_rating','restaurant_id'], ascending=[False,True]).reset_index().iloc[0,2]\n",
    "aux"
   ]
  },
  {
   "cell_type": "markdown",
   "id": "f4cf1f7c-d265-4cdc-a0ed-d4b5b1c6b33f",
   "metadata": {
    "tags": []
   },
   "source": [
    "## 6. Os restaurantes que aceitam pedido online são também, na média, os restaurantes que mais possuem avaliações registradas?"
   ]
  },
  {
   "cell_type": "code",
   "execution_count": null,
   "id": "4ea50121-97e1-4163-ad02-68aec33033b5",
   "metadata": {},
   "outputs": [],
   "source": [
    "#S O numero medio de avaliações dos restaurantes que aceitam ou não pedidos online\n",
    "#P irei selecionar as colunas votes , has_online_delivery agrupando-as com função groupby por has_online_delivery\n",
    "# logo apoís irei usar a função mean para tirar a media das avaliações e reseta o index\n",
    "#E data frame , colunas votes , has_online_delivery"
   ]
  },
  {
   "cell_type": "code",
   "execution_count": 20,
   "id": "3124cc78-25a5-45a1-b044-166ee44f654b",
   "metadata": {},
   "outputs": [
    {
     "data": {
      "text/html": [
       "<div>\n",
       "<style scoped>\n",
       "    .dataframe tbody tr th:only-of-type {\n",
       "        vertical-align: middle;\n",
       "    }\n",
       "\n",
       "    .dataframe tbody tr th {\n",
       "        vertical-align: top;\n",
       "    }\n",
       "\n",
       "    .dataframe thead th {\n",
       "        text-align: right;\n",
       "    }\n",
       "</style>\n",
       "<table border=\"1\" class=\"dataframe\">\n",
       "  <thead>\n",
       "    <tr style=\"text-align: right;\">\n",
       "      <th></th>\n",
       "      <th>has_online_delivery</th>\n",
       "      <th>votes</th>\n",
       "    </tr>\n",
       "  </thead>\n",
       "  <tbody>\n",
       "    <tr>\n",
       "      <th>1</th>\n",
       "      <td>1</td>\n",
       "      <td>838.821664</td>\n",
       "    </tr>\n",
       "    <tr>\n",
       "      <th>0</th>\n",
       "      <td>0</td>\n",
       "      <td>479.421018</td>\n",
       "    </tr>\n",
       "  </tbody>\n",
       "</table>\n",
       "</div>"
      ],
      "text/plain": [
       "   has_online_delivery       votes\n",
       "1                    1  838.821664\n",
       "0                    0  479.421018"
      ]
     },
     "execution_count": 20,
     "metadata": {},
     "output_type": "execute_result"
    }
   ],
   "source": [
    "aux = df1.loc[:,['has_online_delivery','votes']].groupby(['has_online_delivery']).mean().reset_index().sort_values(by='votes',ascending=False)\n",
    "aux"
   ]
  },
  {
   "cell_type": "markdown",
   "id": "401361d8-70c0-41c8-80d2-244f28118df8",
   "metadata": {},
   "source": [
    "## 7. Os restaurantes que fazem reservas são também, na média, os restaurantes que possuem o maior valor médio de um prato para duas pessoas?"
   ]
  },
  {
   "cell_type": "code",
   "execution_count": null,
   "id": "00d1e535-4470-4833-992b-67124a0268f3",
   "metadata": {},
   "outputs": [],
   "source": [
    "#S O custo medio dedos restaurantes que fazem ou não reservas\n",
    "#P irei selecionar as colunas average_cost_for_two , has_table_booking agrupando-as com função groupby por has_table_booking\n",
    "# logo apoís irei usar a função mean para tirar a media dos valores  e reseta o index\n",
    "#E data frame , colunas average_cost_for_two , has_table_booking"
   ]
  },
  {
   "cell_type": "code",
   "execution_count": 21,
   "id": "edcd787b-0d96-4616-9ca2-656be332841f",
   "metadata": {},
   "outputs": [
    {
     "data": {
      "text/html": [
       "<div>\n",
       "<style scoped>\n",
       "    .dataframe tbody tr th:only-of-type {\n",
       "        vertical-align: middle;\n",
       "    }\n",
       "\n",
       "    .dataframe tbody tr th {\n",
       "        vertical-align: top;\n",
       "    }\n",
       "\n",
       "    .dataframe thead th {\n",
       "        text-align: right;\n",
       "    }\n",
       "</style>\n",
       "<table border=\"1\" class=\"dataframe\">\n",
       "  <thead>\n",
       "    <tr style=\"text-align: right;\">\n",
       "      <th></th>\n",
       "      <th>has_table_booking</th>\n",
       "      <th>average_cost_for_two</th>\n",
       "    </tr>\n",
       "  </thead>\n",
       "  <tbody>\n",
       "    <tr>\n",
       "      <th>1</th>\n",
       "      <td>1</td>\n",
       "      <td>69998.423810</td>\n",
       "    </tr>\n",
       "    <tr>\n",
       "      <th>0</th>\n",
       "      <td>0</td>\n",
       "      <td>3488.596866</td>\n",
       "    </tr>\n",
       "  </tbody>\n",
       "</table>\n",
       "</div>"
      ],
      "text/plain": [
       "   has_table_booking  average_cost_for_two\n",
       "1                  1          69998.423810\n",
       "0                  0           3488.596866"
      ]
     },
     "execution_count": 21,
     "metadata": {},
     "output_type": "execute_result"
    }
   ],
   "source": [
    "aux = df1.loc[:,['has_table_booking','average_cost_for_two']].groupby(['has_table_booking']).mean().reset_index().sort_values(by='average_cost_for_two', ascending=False)\n",
    "aux"
   ]
  },
  {
   "cell_type": "markdown",
   "id": "0794c0d8-0dc5-45c0-8d10-1b86ac33db4c",
   "metadata": {
    "jp-MarkdownHeadingCollapsed": true,
    "tags": []
   },
   "source": [
    "## 8. Os restaurantes do tipo de culinária japonesa dos Estados Unidos da América possuem um valor médio de prato para duas pessoas maior que as churrascarias americanas (BBQ)?"
   ]
  },
  {
   "cell_type": "code",
   "execution_count": null,
   "id": "838f4b92-1f40-4876-9ab9-74fb6b97d314",
   "metadata": {},
   "outputs": [],
   "source": [
    "#S Irei apresentar uma tabela com o valor medio de uma prato para duas pessoas do tipo japones nos EUA e o valor da churrascaria BBQ\n",
    "#P irei selecionar as linhas que contenham o pais EUA e sejam da colinaria Japonesa ou  do pais EUA da churrascaria BBQ\n",
    "# depois selecionarei as colunas average_cost_for_two, cuisines utilizando a função groupby para agrupar e tira o valor medio com função mean\n",
    "#E data frame colunas cuisines_number,country, average_cost_for_two, restaurant_name"
   ]
  },
  {
   "cell_type": "code",
   "execution_count": 29,
   "id": "ac5a5e72-74fb-4712-87b5-594b99106d64",
   "metadata": {},
   "outputs": [
    {
     "data": {
      "text/html": [
       "<div>\n",
       "<style scoped>\n",
       "    .dataframe tbody tr th:only-of-type {\n",
       "        vertical-align: middle;\n",
       "    }\n",
       "\n",
       "    .dataframe tbody tr th {\n",
       "        vertical-align: top;\n",
       "    }\n",
       "\n",
       "    .dataframe thead th {\n",
       "        text-align: right;\n",
       "    }\n",
       "</style>\n",
       "<table border=\"1\" class=\"dataframe\">\n",
       "  <thead>\n",
       "    <tr style=\"text-align: right;\">\n",
       "      <th></th>\n",
       "      <th>cuisines_number</th>\n",
       "      <th>average_cost_for_two</th>\n",
       "    </tr>\n",
       "  </thead>\n",
       "  <tbody>\n",
       "    <tr>\n",
       "      <th>1</th>\n",
       "      <td>Japanese</td>\n",
       "      <td>56.406250</td>\n",
       "    </tr>\n",
       "    <tr>\n",
       "      <th>0</th>\n",
       "      <td>BBQ</td>\n",
       "      <td>39.642857</td>\n",
       "    </tr>\n",
       "  </tbody>\n",
       "</table>\n",
       "</div>"
      ],
      "text/plain": [
       "  cuisines_number  average_cost_for_two\n",
       "1        Japanese             56.406250\n",
       "0             BBQ             39.642857"
      ]
     },
     "execution_count": 29,
     "metadata": {},
     "output_type": "execute_result"
    }
   ],
   "source": [
    "line = (df1['country']=='United States of America') & (df1['cuisines_number']=='Japanese') | (df1['country']=='United States of America') & (df1['cuisines_number']=='BBQ')\n",
    "aux = df1.loc[line,['cuisines_number','average_cost_for_two']].groupby(['cuisines_number']).mean().reset_index().sort_values(by='average_cost_for_two',ascending=False)\n",
    "aux\n"
   ]
  },
  {
   "cell_type": "code",
   "execution_count": 30,
   "id": "2c4f674a-6261-4e85-8822-671a00cfc2c6",
   "metadata": {
    "tags": []
   },
   "outputs": [
    {
     "data": {
      "text/plain": [
       "['Italian',\n",
       " 'European',\n",
       " 'Filipino',\n",
       " 'American',\n",
       " 'Korean',\n",
       " 'Pizza',\n",
       " 'Taiwanese',\n",
       " 'Japanese',\n",
       " 'Coffee',\n",
       " 'Chinese',\n",
       " 'Seafood',\n",
       " 'Singaporean',\n",
       " 'Vietnamese',\n",
       " 'Latin American',\n",
       " 'Healthy Food',\n",
       " 'Cafe',\n",
       " 'Fast Food',\n",
       " 'Brazilian',\n",
       " 'Argentine',\n",
       " 'Arabian',\n",
       " 'Bakery',\n",
       " 'Tex-Mex',\n",
       " 'Bar Food',\n",
       " 'International',\n",
       " 'French',\n",
       " 'Steak',\n",
       " 'German',\n",
       " 'Sushi',\n",
       " 'Grill',\n",
       " 'Peruvian',\n",
       " 'North Eastern',\n",
       " 'Ice Cream',\n",
       " 'Burger',\n",
       " 'Mexican',\n",
       " 'Vegetarian',\n",
       " 'Contemporary',\n",
       " 'Desserts',\n",
       " 'Juices',\n",
       " 'Beverages',\n",
       " 'Spanish',\n",
       " 'Thai',\n",
       " 'Indian',\n",
       " 'Mineira',\n",
       " 'BBQ',\n",
       " 'Mongolian',\n",
       " 'Portuguese',\n",
       " 'Greek',\n",
       " 'Asian',\n",
       " 'Author',\n",
       " 'Gourmet Fast Food',\n",
       " 'Lebanese',\n",
       " 'Modern Australian',\n",
       " 'African',\n",
       " 'Coffee and Tea',\n",
       " 'Australian',\n",
       " 'Middle Eastern',\n",
       " 'Malaysian',\n",
       " 'Tapas',\n",
       " 'New American',\n",
       " 'Pub Food',\n",
       " 'Southern',\n",
       " 'Diner',\n",
       " 'Donuts',\n",
       " 'Southwestern',\n",
       " 'Sandwich',\n",
       " 'Irish',\n",
       " 'Mediterranean',\n",
       " 'Cafe Food',\n",
       " 'Korean BBQ',\n",
       " 'Fusion',\n",
       " 'Canadian',\n",
       " 'Breakfast',\n",
       " 'Cajun',\n",
       " 'New Mexican',\n",
       " 'Belgian',\n",
       " 'Cuban',\n",
       " 'Taco',\n",
       " 'Caribbean',\n",
       " 'Polish',\n",
       " 'Deli',\n",
       " 'British',\n",
       " 'California',\n",
       " 'Others',\n",
       " 'Eastern European',\n",
       " 'Creole',\n",
       " 'Ramen',\n",
       " 'Ukrainian',\n",
       " 'Hawaiian',\n",
       " 'Patisserie',\n",
       " 'Yum Cha',\n",
       " 'Pacific Northwest',\n",
       " 'Tea',\n",
       " 'Moroccan',\n",
       " 'Burmese',\n",
       " 'Dim Sum',\n",
       " 'Crepes',\n",
       " 'Fish and Chips',\n",
       " 'Russian',\n",
       " 'Continental',\n",
       " 'South Indian',\n",
       " 'North Indian',\n",
       " 'Salad',\n",
       " 'Finger Food',\n",
       " 'Mandi',\n",
       " 'Turkish',\n",
       " 'Kerala',\n",
       " 'Pakistani',\n",
       " 'Biryani',\n",
       " 'Street Food',\n",
       " 'Nepalese',\n",
       " 'Goan',\n",
       " 'Iranian',\n",
       " 'Mughlai',\n",
       " 'Rajasthani',\n",
       " 'Mithai',\n",
       " 'Maharashtrian',\n",
       " 'Gujarati',\n",
       " 'Rolls',\n",
       " 'Momos',\n",
       " 'Parsi',\n",
       " 'Modern Indian',\n",
       " 'Andhra',\n",
       " 'Tibetan',\n",
       " 'Kebab',\n",
       " 'Chettinad',\n",
       " 'Bengali',\n",
       " 'Assamese',\n",
       " 'Naga',\n",
       " 'Hyderabadi',\n",
       " 'Awadhi',\n",
       " 'Afghan',\n",
       " 'Lucknowi',\n",
       " 'Charcoal Chicken',\n",
       " 'Mangalorean',\n",
       " 'Egyptian',\n",
       " 'Malwani',\n",
       " 'Armenian',\n",
       " 'Roast Chicken',\n",
       " 'Indonesian',\n",
       " 'Western',\n",
       " 'Dimsum',\n",
       " 'Sunda',\n",
       " 'Kiwi',\n",
       " 'Asian Fusion',\n",
       " 'Pan Asian',\n",
       " 'Balti',\n",
       " 'Scottish',\n",
       " 'Cantonese',\n",
       " 'Sri Lankan',\n",
       " 'Khaleeji',\n",
       " 'South African',\n",
       " 'Drinks Only',\n",
       " 'Durban',\n",
       " 'World Cuisine',\n",
       " 'Izgara',\n",
       " 'Home-made',\n",
       " 'Giblets',\n",
       " 'Fresh Fish',\n",
       " 'Restaurant Cafe',\n",
       " 'Kumpir',\n",
       " 'Döner',\n",
       " 'Turkish Pizza',\n",
       " 'Ottoman',\n",
       " 'Old Turkish Bars',\n",
       " 'Kokoreç']"
      ]
     },
     "execution_count": 30,
     "metadata": {},
     "output_type": "execute_result"
    }
   ],
   "source": [
    "df1.loc[:, 'cuisines_number'].unique().tolist()"
   ]
  },
  {
   "cell_type": "markdown",
   "id": "9b1f0676-0965-4756-aee0-33e0ede7542c",
   "metadata": {
    "tags": []
   },
   "source": [
    "# Tipos de Culinária\n"
   ]
  },
  {
   "cell_type": "markdown",
   "id": "fd473c25-0119-4733-8cb4-4cf9f646564a",
   "metadata": {},
   "source": [
    "## 1. Dos restaurantes que possuem o tipo de culinária italiana, qual o nome do restaurante com a maior média de avaliação?"
   ]
  },
  {
   "cell_type": "code",
   "execution_count": null,
   "id": "eb86a7e1-72d3-46a2-919b-0fddc4be0095",
   "metadata": {},
   "outputs": [],
   "source": [
    "#S Informar o nome do Restaurante do tipo de culinaria italina o que possui maior media de avaliação\n",
    "#P irei selecionar somente as linhas que contenham culinaria italiana\n",
    "# Logo após irei ordenar as colunas por aggregate_rating, restaurant_id para saber o mais bem avaliado e o restaurante mais antigo\n",
    "# irei reseta index e selecionar o primeiro restaurante\n",
    "#E data frame colunas , restaurant_id,restaurant_name,cuisines_number,aggregate_rating"
   ]
  },
  {
   "cell_type": "code",
   "execution_count": 16,
   "id": "ed2976a0-9ea7-440b-af62-0377f21fee3e",
   "metadata": {
    "tags": []
   },
   "outputs": [
    {
     "data": {
      "text/plain": [
       "'Darshan'"
      ]
     },
     "execution_count": 16,
     "metadata": {},
     "output_type": "execute_result"
    }
   ],
   "source": [
    "line = df1['cuisines_number']=='Italian'\n",
    "cols =['restaurant_id','restaurant_name','aggregate_rating']\n",
    "aux = df1.loc[line,cols].sort_values(['aggregate_rating','restaurant_id'], ascending=[False, True]).reset_index().iloc[0,2]\n",
    "aux"
   ]
  },
  {
   "cell_type": "markdown",
   "id": "75319a2f-3f1d-4e9f-bc08-c7e970ba5aa9",
   "metadata": {},
   "source": [
    "## 2. Dos restaurantes que possuem o tipo de culinária italiana, qual o nome do restaurante com a menor média de avaliação?\n"
   ]
  },
  {
   "cell_type": "code",
   "execution_count": null,
   "id": "4bc53705-526d-4883-a47d-38646da87d7b",
   "metadata": {},
   "outputs": [],
   "source": [
    "#S Informar o nome do Restaurante do tipo de culinaria italina o que possui menor media de avaliação\n",
    "#P irei selecionar somente as linhas que contenham culinaria italiana\n",
    "# Logo após irei ordenar as colunas por aggregate_rating, restaurant_id para saber o mais mal avaliado e o restaurante mais antigo\n",
    "# irei reseta index e selecionar o primeiro restaurante\n",
    "#E data frame colunas , restaurant_id,restaurant_name,cuisines_number,aggregate_rating"
   ]
  },
  {
   "cell_type": "code",
   "execution_count": 17,
   "id": "44b62b7e-6628-497f-82b4-c24d61e22379",
   "metadata": {
    "tags": []
   },
   "outputs": [
    {
     "data": {
      "text/plain": [
       "'Avenida Paulista'"
      ]
     },
     "execution_count": 17,
     "metadata": {},
     "output_type": "execute_result"
    }
   ],
   "source": [
    "line = df1['cuisines_number']=='Italian'\n",
    "cols =['restaurant_id','restaurant_name','aggregate_rating']\n",
    "aux = df1.loc[line,cols].sort_values(['aggregate_rating','restaurant_id'], ascending=[True, True]).reset_index().iloc[0,2]\n",
    "aux"
   ]
  },
  {
   "cell_type": "markdown",
   "id": "b9f09444-9da7-4d17-aba8-ff642d63556b",
   "metadata": {},
   "source": [
    "## 3. Dos restaurantes que possuem o tipo de culinária americana, qual o nome do restaurante com a maior média de avaliação?\n"
   ]
  },
  {
   "cell_type": "code",
   "execution_count": null,
   "id": "2ca9f95a-d14e-4680-b1ad-5309349ef107",
   "metadata": {},
   "outputs": [],
   "source": [
    "#S Informar o nome do Restaurante do tipo de culinaria americana o que possui maior media de avaliação\n",
    "#P irei selecionar somente as linhas que contenham culinaria american\n",
    "# Logo após irei ordenar as colunas por aggregate_rating, restaurant_id para saber o mais bem avaliado e o restaurante mais antigo\n",
    "# irei reseta index e selecionar o primeiro restaurante\n",
    "#E data frame colunas , restaurant_id,restaurant_name,cuisines_number,aggregate_rating"
   ]
  },
  {
   "cell_type": "code",
   "execution_count": 19,
   "id": "68c8f4e8-3a38-415c-a256-4a9442ac06e8",
   "metadata": {
    "tags": []
   },
   "outputs": [
    {
     "data": {
      "text/plain": [
       "'Burger & Lobster'"
      ]
     },
     "execution_count": 19,
     "metadata": {},
     "output_type": "execute_result"
    }
   ],
   "source": [
    "line = df1['cuisines_number']=='American'\n",
    "cols =['restaurant_id','restaurant_name','aggregate_rating']\n",
    "aux = df1.loc[line,cols].sort_values(['aggregate_rating','restaurant_id'], ascending=[False, True]).reset_index().iloc[0,2]\n",
    "aux\n"
   ]
  },
  {
   "cell_type": "markdown",
   "id": "982f69cb-84e1-4c8f-9285-6da91376b2c8",
   "metadata": {},
   "source": [
    "## 4. Dos restaurantes que possuem o tipo de culinária americana, qual o nome do restaurante com a menor média de avaliação?\n"
   ]
  },
  {
   "cell_type": "code",
   "execution_count": null,
   "id": "e0774edb-bbd2-4211-ad14-8a7c5acb898b",
   "metadata": {},
   "outputs": [],
   "source": [
    "#S Informar o nome do Restaurante do tipo de culinaria americana o que possui menor media de avaliação\n",
    "#P irei selecionar somente as linhas que contenham culinaria american\n",
    "# Logo após irei ordenar as colunas por aggregate_rating, restaurant_id para saber o mais mal avaliado e o restaurante mais antigo\n",
    "# irei reseta index e selecionar o primeiro restaurante\n",
    "#E data frame colunas , restaurant_id,restaurant_name,cuisines_number,aggregate_rating"
   ]
  },
  {
   "cell_type": "code",
   "execution_count": 20,
   "id": "eeff912a-ca1e-4b13-b95e-dd63a88e9ffd",
   "metadata": {
    "tags": []
   },
   "outputs": [
    {
     "data": {
      "text/plain": [
       "'Alston Bar & Beef'"
      ]
     },
     "execution_count": 20,
     "metadata": {},
     "output_type": "execute_result"
    }
   ],
   "source": [
    "line = df1['cuisines_number']=='American'\n",
    "cols =['restaurant_id','restaurant_name','aggregate_rating']\n",
    "aux = df1.loc[line,cols].sort_values(['aggregate_rating','restaurant_id'], ascending=[True, True]).reset_index().iloc[0,2]\n",
    "aux"
   ]
  },
  {
   "cell_type": "markdown",
   "id": "539608da-9fa8-4c5b-9f6c-21430176cad2",
   "metadata": {},
   "source": [
    "## 5. Dos restaurantes que possuem o tipo de culinária árabe, qual o nome do restaurante com a maior média de avaliação?\n"
   ]
  },
  {
   "cell_type": "code",
   "execution_count": null,
   "id": "96d00db0-af23-45d9-8a00-d7d17681283a",
   "metadata": {},
   "outputs": [],
   "source": [
    "#S Informar o nome do Restaurante do tipo de culinaria Arabian o que possui maior media de avaliação\n",
    "#P irei selecionar somente as linhas que contenham culinaria american\n",
    "# Logo após irei ordenar as colunas por aggregate_rating, restaurant_id para saber o mais bem avaliado e o restaurante mais antigo\n",
    "# irei reseta index e selecionar o primeiro restaurante\n",
    "#E data frame colunas , restaurant_id,restaurant_name,cuisines_number,aggregate_rating"
   ]
  },
  {
   "cell_type": "code",
   "execution_count": 12,
   "id": "8cbe7e27-9ad1-4cee-b785-4ad9f79a4985",
   "metadata": {},
   "outputs": [
    {
     "data": {
      "text/plain": [
       "'Mandi@36'"
      ]
     },
     "execution_count": 12,
     "metadata": {},
     "output_type": "execute_result"
    }
   ],
   "source": [
    "line = df1['cuisines_number']=='Arabian'\n",
    "cols =['restaurant_id','restaurant_name','aggregate_rating']\n",
    "aux = df1.loc[line,cols].sort_values(['aggregate_rating','restaurant_id'], ascending=[False, True]).reset_index().iloc[0,2]\n",
    "aux\n",
    "\n"
   ]
  },
  {
   "cell_type": "markdown",
   "id": "562eee1a-52b7-4bb6-9ad0-ae59abff17a5",
   "metadata": {},
   "source": [
    "## 6. Dos restaurantes que possuem o tipo de culinária árabe, qual o nome do restaurante com a menor média de avaliação?"
   ]
  },
  {
   "cell_type": "code",
   "execution_count": null,
   "id": "1483e751-3e79-4021-99bf-45b47530f711",
   "metadata": {},
   "outputs": [],
   "source": [
    "#S Informar o nome do Restaurante do tipo de culinaria Arabian o que possui menor media de avaliação\n",
    "#P irei selecionar somente as linhas que contenham culinaria american\n",
    "# Logo após irei ordenar as colunas por aggregate_rating, restaurant_id para saber o mais mal avaliado e o restaurante mais antigo\n",
    "# irei reseta index e selecionar o primeiro restaurante\n",
    "#E data frame colunas , restaurant_id,restaurant_name,cuisines_number,aggregate_rating"
   ]
  },
  {
   "cell_type": "code",
   "execution_count": 13,
   "id": "fee5cc1a-435a-436c-b23f-806211744347",
   "metadata": {},
   "outputs": [
    {
     "data": {
      "text/plain": [
       "'Raful'"
      ]
     },
     "execution_count": 13,
     "metadata": {},
     "output_type": "execute_result"
    }
   ],
   "source": [
    "line = df1['cuisines_number']=='Arabian'\n",
    "cols =['restaurant_id','restaurant_name','aggregate_rating']\n",
    "aux = df1.loc[line,cols].sort_values(['aggregate_rating','restaurant_id'], ascending=[True, True]).reset_index().iloc[0,2]\n",
    "aux"
   ]
  },
  {
   "cell_type": "markdown",
   "id": "4c54bc87-96e1-4438-8f86-8c20439f62fe",
   "metadata": {},
   "source": [
    "## 7. Dos restaurantes que possuem o tipo de culinária japonesa, qual o nome do restaurante com a maior média de avaliação?\n"
   ]
  },
  {
   "cell_type": "code",
   "execution_count": null,
   "id": "63177317-170d-4bef-a8b1-472a7f84e0fb",
   "metadata": {},
   "outputs": [],
   "source": [
    "#S Informar o nome do Restaurante do tipo de culinaria Japanese o que possui maior media de avaliação\n",
    "#P irei selecionar somente as linhas que contenham culinaria american\n",
    "# Logo após irei ordenar as colunas por aggregate_rating, restaurant_id para saber o mais bem avaliado e o restaurante mais antigo\n",
    "# irei reseta index e selecionar o primeiro restaurante\n",
    "#E data frame colunas , restaurant_id,restaurant_name,cuisines_number,aggregate_rating"
   ]
  },
  {
   "cell_type": "code",
   "execution_count": 14,
   "id": "26c40848-d553-44d8-b025-f868735726b8",
   "metadata": {},
   "outputs": [
    {
     "data": {
      "text/plain": [
       "'Sushi Samba'"
      ]
     },
     "execution_count": 14,
     "metadata": {},
     "output_type": "execute_result"
    }
   ],
   "source": [
    "line = df1['cuisines_number']=='Japanese'\n",
    "cols =['restaurant_id','restaurant_name','aggregate_rating']\n",
    "aux = df1.loc[line,cols].sort_values(['aggregate_rating','restaurant_id'], ascending=[False, True]).reset_index().iloc[0,2]\n",
    "aux"
   ]
  },
  {
   "cell_type": "markdown",
   "id": "52bbf67c-53a8-404e-8d28-a4a6749c491c",
   "metadata": {},
   "source": [
    "## 8. Dos restaurantes que possuem o tipo de culinária japonesa, qual o nome do restaurante com a menor média de avaliação?\n"
   ]
  },
  {
   "cell_type": "code",
   "execution_count": null,
   "id": "a4d171c5-2458-481c-90a4-ed30d160ebb8",
   "metadata": {},
   "outputs": [],
   "source": [
    "#S Informar o nome do Restaurante do tipo de culinaria Japanese o que possui menor media de avaliação\n",
    "#P irei selecionar somente as linhas que contenham culinaria american\n",
    "# Logo após irei ordenar as colunas por aggregate_rating, restaurant_id para saber o mais mal avaliado e o restaurante mais antigo\n",
    "# irei reseta index e selecionar o primeiro restaurante\n",
    "#E data frame colunas , restaurant_id,restaurant_name,cuisines_number,aggregate_rating"
   ]
  },
  {
   "cell_type": "code",
   "execution_count": 15,
   "id": "78a04ac4-bf93-4fb9-a6c2-4561da17b7ba",
   "metadata": {},
   "outputs": [
    {
     "data": {
      "text/plain": [
       "'Banzai Sushi'"
      ]
     },
     "execution_count": 15,
     "metadata": {},
     "output_type": "execute_result"
    }
   ],
   "source": [
    "line = df1['cuisines_number']=='Japanese'\n",
    "cols =['restaurant_id','restaurant_name','aggregate_rating']\n",
    "aux = df1.loc[line,cols].sort_values(['aggregate_rating','restaurant_id'], ascending=[True, True]).reset_index().iloc[0,2]\n",
    "aux\n"
   ]
  },
  {
   "cell_type": "markdown",
   "id": "16b36b29-97bd-45ab-8ee7-d60bfb7d6136",
   "metadata": {},
   "source": [
    "## 9. Dos restaurantes que possuem o tipo de culinária caseira, qual o nome do restaurante com a maior média de avaliação?\n"
   ]
  },
  {
   "cell_type": "code",
   "execution_count": null,
   "id": "de1f5eb1-623e-47a7-a1e3-e6208b156f5c",
   "metadata": {},
   "outputs": [],
   "source": [
    "#S Informar o nome do Restaurante do tipo de culinaria Home-made o que possui maior media de avaliação\n",
    "#P irei selecionar somente as linhas que contenham culinaria american\n",
    "# Logo após irei ordenar as colunas por aggregate_rating, restaurant_id para saber o mais bem avaliado e o restaurante mais antigo\n",
    "# irei reseta index e selecionar o primeiro restaurante\n",
    "#E data frame colunas , restaurant_id,restaurant_name,cuisines_number,aggregate_rating"
   ]
  },
  {
   "cell_type": "code",
   "execution_count": 16,
   "id": "9dc50534-fb8a-4086-b256-a0275dd12f5e",
   "metadata": {},
   "outputs": [
    {
     "data": {
      "text/plain": [
       "'Kanaat Lokantası'"
      ]
     },
     "execution_count": 16,
     "metadata": {},
     "output_type": "execute_result"
    }
   ],
   "source": [
    "line = df1['cuisines_number']=='Home-made'\n",
    "cols =['restaurant_id','restaurant_name','aggregate_rating']\n",
    "aux = df1.loc[line,cols].sort_values(['aggregate_rating','restaurant_id'], ascending=[False, True]).reset_index().iloc[0,2]\n",
    "aux"
   ]
  },
  {
   "cell_type": "markdown",
   "id": "c026f1bc-b902-4011-8455-8552d195fc43",
   "metadata": {},
   "source": [
    "## 10. Dos restaurantes que possuem o tipo de culinária caseira, qual o nome do restaurante com a menor média de avaliação?"
   ]
  },
  {
   "cell_type": "code",
   "execution_count": null,
   "id": "c9359197-5ec3-4f74-8757-831bff71f2c4",
   "metadata": {},
   "outputs": [],
   "source": [
    "#S Informar o nome do Restaurante do tipo de culinaria Home-made o que possui menor media de avaliação\n",
    "#P irei selecionar somente as linhas que contenham culinaria american\n",
    "# Logo após irei ordenar as colunas por aggregate_rating, restaurant_id para saber o mais mal avaliado e o restaurante mais antigo\n",
    "# irei reseta index e selecionar o primeiro restaurante\n",
    "#E data frame colunas , restaurant_id,restaurant_name,cuisines_number,aggregate_rating"
   ]
  },
  {
   "cell_type": "code",
   "execution_count": 17,
   "id": "557494ae-fff1-4d68-b692-7121aad3b95c",
   "metadata": {},
   "outputs": [
    {
     "data": {
      "text/plain": [
       "'GurMekan Restaurant'"
      ]
     },
     "execution_count": 17,
     "metadata": {},
     "output_type": "execute_result"
    }
   ],
   "source": [
    "line = df1['cuisines_number']=='Home-made'\n",
    "cols =['restaurant_id','restaurant_name','aggregate_rating']\n",
    "aux = df1.loc[line,cols].sort_values(['aggregate_rating','restaurant_id'], ascending=[True, True]).reset_index().iloc[0,2]\n",
    "aux"
   ]
  },
  {
   "cell_type": "markdown",
   "id": "3173196c-d4d2-45f2-87a0-6f720245e0fc",
   "metadata": {},
   "source": [
    "## 11. Qual o tipo de culinária que possui o maior valor médio de um prato para duas pessoas?\n"
   ]
  },
  {
   "cell_type": "code",
   "execution_count": null,
   "id": "505424e5-e8f7-4d2f-b160-cdaee9b82258",
   "metadata": {},
   "outputs": [],
   "source": [
    "#S Informar qual o tipo de culinaria tem o maior valor médio de um prato para duas pessoas\n",
    "#P Irei selecionar as colunas 'average_cost_for_two', 'cuisines'\n",
    "#Logo após irei utilizar a função groupby para acrupar por tipo de culinaria cuisines_number\n",
    "# Depois utilizar a função max para me informar o maior valor e pedir para ordernar pelo maior para menor e depois resetar o index e selecionar a primeira linha\n",
    "#E data frame e as colunas 'average_cost_for_two', 'cuisines'"
   ]
  },
  {
   "cell_type": "code",
   "execution_count": 17,
   "id": "dfeb933e-f407-49f8-b410-d4aeb1cfc4a3",
   "metadata": {},
   "outputs": [
    {
     "data": {
      "text/html": [
       "<div>\n",
       "<style scoped>\n",
       "    .dataframe tbody tr th:only-of-type {\n",
       "        vertical-align: middle;\n",
       "    }\n",
       "\n",
       "    .dataframe tbody tr th {\n",
       "        vertical-align: top;\n",
       "    }\n",
       "\n",
       "    .dataframe thead th {\n",
       "        text-align: right;\n",
       "    }\n",
       "</style>\n",
       "<table border=\"1\" class=\"dataframe\">\n",
       "  <thead>\n",
       "    <tr style=\"text-align: right;\">\n",
       "      <th></th>\n",
       "      <th>cuisines_number</th>\n",
       "      <th>average_cost_for_two</th>\n",
       "    </tr>\n",
       "  </thead>\n",
       "  <tbody>\n",
       "    <tr>\n",
       "      <th>0</th>\n",
       "      <td>Modern Australian</td>\n",
       "      <td>25000017</td>\n",
       "    </tr>\n",
       "  </tbody>\n",
       "</table>\n",
       "</div>"
      ],
      "text/plain": [
       "     cuisines_number  average_cost_for_two\n",
       "0  Modern Australian              25000017"
      ]
     },
     "execution_count": 17,
     "metadata": {},
     "output_type": "execute_result"
    }
   ],
   "source": [
    "(df1.loc[:, ['average_cost_for_two', 'cuisines_number'] ]\n",
    "                                         .groupby('cuisines_number')\n",
    "                                         .max()\n",
    "                                         .sort_values('average_cost_for_two', ascending=False)\n",
    "                                         .reset_index()).head(1)"
   ]
  },
  {
   "cell_type": "markdown",
   "id": "58d5f86d-aa37-4089-ba0e-d5965b25cc67",
   "metadata": {},
   "source": [
    "## 12. Qual o tipo de culinária que possui a maior nota média?\n"
   ]
  },
  {
   "cell_type": "code",
   "execution_count": null,
   "id": "ebdab17e-754e-4e7d-a917-60a1e46fa22a",
   "metadata": {},
   "outputs": [],
   "source": [
    "#S Informar qual o tipo de culinaria tem o maior nota médio\n",
    "#P Irei selecionar as colunas 'average_cost_for_two', 'cuisines'\n",
    "#Logo após irei utilizar a função groupby para acrupar por tipo de culinaria cuisines_number\n",
    "# Depois utilizar a função max para me informar o maior valor e pedir para ordernar pelo maior para menor e depois resetar o index e selecionar a primeira linha\n",
    "#E data frame e as colunas 'aggregate_rating', 'cuisines_number'"
   ]
  },
  {
   "cell_type": "code",
   "execution_count": 13,
   "id": "3585c296-a0fe-4b64-b74f-a782f3d59fb2",
   "metadata": {},
   "outputs": [
    {
     "data": {
      "text/html": [
       "<div>\n",
       "<style scoped>\n",
       "    .dataframe tbody tr th:only-of-type {\n",
       "        vertical-align: middle;\n",
       "    }\n",
       "\n",
       "    .dataframe tbody tr th {\n",
       "        vertical-align: top;\n",
       "    }\n",
       "\n",
       "    .dataframe thead th {\n",
       "        text-align: right;\n",
       "    }\n",
       "</style>\n",
       "<table border=\"1\" class=\"dataframe\">\n",
       "  <thead>\n",
       "    <tr style=\"text-align: right;\">\n",
       "      <th></th>\n",
       "      <th>cuisines</th>\n",
       "      <th>aggregate_rating</th>\n",
       "    </tr>\n",
       "  </thead>\n",
       "  <tbody>\n",
       "    <tr>\n",
       "      <th>0</th>\n",
       "      <td>Filipino, International, Southern</td>\n",
       "      <td>4.9</td>\n",
       "    </tr>\n",
       "  </tbody>\n",
       "</table>\n",
       "</div>"
      ],
      "text/plain": [
       "                            cuisines  aggregate_rating\n",
       "0  Filipino, International, Southern               4.9"
      ]
     },
     "execution_count": 13,
     "metadata": {},
     "output_type": "execute_result"
    }
   ],
   "source": [
    "(df1.loc[:, ['aggregate_rating', 'cuisines_number'] ]\n",
    "                                         .groupby('cuisines_number')\n",
    "                                         .max()\n",
    "                                         .sort_values('aggregate_rating', ascending=False)\n",
    "                                         .reset_index()).head(1)"
   ]
  },
  {
   "cell_type": "markdown",
   "id": "9874f835-ea31-4020-8036-333462136fcd",
   "metadata": {
    "tags": []
   },
   "source": [
    "## 13. Qual o tipo de culinária que possui mais restaurantes que aceitam pedidos online e fazem entregas?"
   ]
  },
  {
   "cell_type": "code",
   "execution_count": null,
   "id": "1ac6560b-83fe-46db-92ff-5baa371a511a",
   "metadata": {},
   "outputs": [],
   "source": [
    "#S Informar qual o tipo de culinaria que mais possui restaurantes que aceitam pedidos online e fazer entregas\n",
    "#P irei selecionar apenas as linhas dos restaurentes que fazem entrega e aceitam pedidos onlines\n",
    "# logo irei selecionar as colunas 'restaurant_id', 'cuisines_number' e as linhas filtradas do data frame \n",
    "# irei agrupar por cuisines_number e pedir para contrar os restaurantes e ordernar do maio para o menor\n",
    "#irei resetar o index e selecionar a primeira linha \n",
    "# Depois utilizar a função max para me informar o maior valor e pedir para ordernar pelo maior para menor e depois resetar o index e selecionar a primeira linha\n",
    "#E data frame e as colunas 'has_online_delivery', 'is_delivering_now' , 'restaurant_id' , 'cuisines_number'"
   ]
  },
  {
   "cell_type": "code",
   "execution_count": 20,
   "id": "e4627c69-5faa-4d63-96c6-6f9181271b3e",
   "metadata": {},
   "outputs": [
    {
     "data": {
      "text/html": [
       "<div>\n",
       "<style scoped>\n",
       "    .dataframe tbody tr th:only-of-type {\n",
       "        vertical-align: middle;\n",
       "    }\n",
       "\n",
       "    .dataframe tbody tr th {\n",
       "        vertical-align: top;\n",
       "    }\n",
       "\n",
       "    .dataframe thead th {\n",
       "        text-align: right;\n",
       "    }\n",
       "</style>\n",
       "<table border=\"1\" class=\"dataframe\">\n",
       "  <thead>\n",
       "    <tr style=\"text-align: right;\">\n",
       "      <th></th>\n",
       "      <th>cuisines_number</th>\n",
       "      <th>restaurant_id</th>\n",
       "    </tr>\n",
       "  </thead>\n",
       "  <tbody>\n",
       "    <tr>\n",
       "      <th>0</th>\n",
       "      <td>North Indian</td>\n",
       "      <td>317</td>\n",
       "    </tr>\n",
       "  </tbody>\n",
       "</table>\n",
       "</div>"
      ],
      "text/plain": [
       "  cuisines_number  restaurant_id\n",
       "0    North Indian            317"
      ]
     },
     "execution_count": 20,
     "metadata": {},
     "output_type": "execute_result"
    }
   ],
   "source": [
    "lines = (df1['has_online_delivery'] == 1) & (df1['is_delivering_now'] == 1)\n",
    "\n",
    "(df1.loc[lines, ['restaurant_id', 'cuisines_number'] ]\n",
    "                                         .groupby('cuisines_number')\n",
    "                                         .count()\n",
    "                                         .sort_values('restaurant_id', ascending=False)\n",
    "                                         .reset_index()).head(1)"
   ]
  }
 ],
 "metadata": {
  "kernelspec": {
   "display_name": "Python 3 (ipykernel)",
   "language": "python",
   "name": "python3"
  },
  "language_info": {
   "codemirror_mode": {
    "name": "ipython",
    "version": 3
   },
   "file_extension": ".py",
   "mimetype": "text/x-python",
   "name": "python",
   "nbconvert_exporter": "python",
   "pygments_lexer": "ipython3",
   "version": "3.11.4"
  }
 },
 "nbformat": 4,
 "nbformat_minor": 5
}
